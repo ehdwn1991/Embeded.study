{
 "cells": [
  {
   "cell_type": "code",
   "execution_count": null,
   "metadata": {},
   "outputs": [],
   "source": [
    "str1=\"MDS ACADEMY\"\n",
    "str2= \"EMBEDDED\"\n",
    "str3=str1[:3]+\" \"+str2+\" \"+str1[4:]\n",
    "str3"
   ]
  },
  {
   "cell_type": "code",
   "execution_count": null,
   "metadata": {},
   "outputs": [],
   "source": [
    "STR=\"MDS ACADEMY\"\n",
    "STR=STR[:4]+\"EMBEDDED\"+STR[-7:]+\".\"\n",
    "STR"
   ]
  },
  {
   "cell_type": "code",
   "execution_count": null,
   "metadata": {},
   "outputs": [],
   "source": [
    "STR=STR[:4]+\"EMBEDDED \"+STR[-7:]+\".\"\n",
    "STR"
   ]
  },
  {
   "cell_type": "code",
   "execution_count": null,
   "metadata": {},
   "outputs": [],
   "source": [
    "STR=STR[:4]+\"EMBEDDED \"+STR[-8:]+\".\"\n",
    "STR"
   ]
  },
  {
   "cell_type": "code",
   "execution_count": null,
   "metadata": {},
   "outputs": [],
   "source": [
    "STR=STR[:12]+\"ACADEMY.\"\n",
    "STR"
   ]
  },
  {
   "cell_type": "code",
   "execution_count": null,
   "metadata": {},
   "outputs": [],
   "source": [
    "STR=\"MDS ACADEMY\"\n",
    "STR=STR.split()\n",
    "#split을 쓰면 리스트로 만들어짐 split은 리스트를 리턴해줌\n",
    "#맥시멈 값과 싸를 문자도 정할수 있음\n",
    "#split(\" \",3) 3개까지만 공백이 있는걸 짜름\n",
    "STR"
   ]
  },
  {
   "cell_type": "code",
   "execution_count": null,
   "metadata": {},
   "outputs": [],
   "source": [
    "STR.insert(1,\"EMBEDDED\")"
   ]
  },
  {
   "cell_type": "code",
   "execution_count": null,
   "metadata": {},
   "outputs": [],
   "source": [
    "STR.remove(\"EMBEDDED\")"
   ]
  },
  {
   "cell_type": "code",
   "execution_count": null,
   "metadata": {},
   "outputs": [],
   "source": [
    "STR\n",
    "#현재 STR는 리스트이며 안에는 문자열이 들어있음."
   ]
  },
  {
   "cell_type": "code",
   "execution_count": null,
   "metadata": {},
   "outputs": [],
   "source": [
    "STR[2]=STR[2]+'.'"
   ]
  },
  {
   "cell_type": "code",
   "execution_count": null,
   "metadata": {},
   "outputs": [],
   "source": [
    "STR=\" \".join(STR)\n",
    "STR\n",
    "# STR=\" \".join(STR)\n",
    "# STR"
   ]
  },
  {
   "cell_type": "code",
   "execution_count": null,
   "metadata": {},
   "outputs": [],
   "source": [
    "STR.lower()\n",
    "#소문자 바꾸기 하지만 지금 lower은 현재 보이는것만 소문자로 바꿔줄뿐\n",
    "# 아직 STR자체가 바뀐건 아님 그래서 다시 STR에 넣어줘야함\n",
    "STR =STR.lower()\n",
    "STR"
   ]
  },
  {
   "cell_type": "code",
   "execution_count": null,
   "metadata": {},
   "outputs": [],
   "source": [
    "STR =STR.upper()\n",
    "STR"
   ]
  },
  {
   "cell_type": "code",
   "execution_count": null,
   "metadata": {},
   "outputs": [],
   "source": [
    "STR =STR.title()\n",
    "STR"
   ]
  },
  {
   "cell_type": "code",
   "execution_count": null,
   "metadata": {},
   "outputs": [],
   "source": [
    "STR=\"this is \"+STR\n",
    "STR"
   ]
  },
  {
   "cell_type": "code",
   "execution_count": null,
   "metadata": {},
   "outputs": [],
   "source": [
    "STR=STR.capitalize()\n",
    "STR"
   ]
  },
  {
   "cell_type": "code",
   "execution_count": null,
   "metadata": {},
   "outputs": [],
   "source": [
    "STR=STR.partition(\" \")\n",
    "#partition은 스플릿과 같은 기능이지만 스플릿과는 \n",
    "# 다르게 튜플로 만들어줌 물론 split처럼 리턴값이 튜플이기 때문에\n",
    "# 객체에 다시 저장해줘야댐\n",
    "STR"
   ]
  },
  {
   "cell_type": "code",
   "execution_count": null,
   "metadata": {},
   "outputs": [],
   "source": [
    "STR.rpartition(\" \")\n",
    "STR"
   ]
  },
  {
   "cell_type": "code",
   "execution_count": null,
   "metadata": {},
   "outputs": [],
   "source": [
    "STR.replace(\"MDS\",\"hancom\")\n",
    "STR"
   ]
  },
  {
   "cell_type": "code",
   "execution_count": null,
   "metadata": {},
   "outputs": [],
   "source": [
    "STR=STR+\"kkk\\n okok\\n\"\n",
    "STR"
   ]
  },
  {
   "cell_type": "code",
   "execution_count": null,
   "metadata": {},
   "outputs": [],
   "source": [
    "STR.count(\"M\")"
   ]
  },
  {
   "cell_type": "code",
   "execution_count": null,
   "metadata": {},
   "outputs": [],
   "source": [
    "STR.count(\"A\")"
   ]
  },
  {
   "cell_type": "code",
   "execution_count": null,
   "metadata": {},
   "outputs": [],
   "source": [
    "STR.lstrip()"
   ]
  },
  {
   "cell_type": "code",
   "execution_count": null,
   "metadata": {},
   "outputs": [],
   "source": [
    "STR.rstrip()"
   ]
  },
  {
   "cell_type": "code",
   "execution_count": null,
   "metadata": {},
   "outputs": [],
   "source": [
    "STR.strip()"
   ]
  },
  {
   "cell_type": "code",
   "execution_count": null,
   "metadata": {},
   "outputs": [],
   "source": [
    "type(STR.encode())"
   ]
  },
  {
   "cell_type": "code",
   "execution_count": null,
   "metadata": {},
   "outputs": [],
   "source": [
    "by=STR.encode()\n",
    "type(by.decode())"
   ]
  },
  {
   "cell_type": "code",
   "execution_count": null,
   "metadata": {},
   "outputs": [],
   "source": [
    "moment=\"\"\"And can we please have a moment to mourn? \n",
    "잠시 애도의 시간을 가지지 않을래?\n",
    "\n",
    "For Pac, Biggie and Pun 'cause through us they live on \n",
    "Pac, Biggie, Pun을 위해서, 우릴 통해 그들은 살아가니까 \n",
    "\n",
    "Jam Master Jay, Freaky Ty and Aaliyah \n",
    "Jam Master Jay, Freaky Ty와 Aaliyah \n",
    "\n",
    "Big L and Left Eye, when we die we wish to see ya \n",
    "Big L과 Left Eye, 우리가 죽으면 너희들을 만나길 \n",
    "\n",
    "Can we please have a moment for children? \n",
    "아이들을 위해 잠시만 시간을 가지지 않을래? \n",
    "\n",
    "Who got raped or murdered, or trapped in the system \n",
    "강간당하거나 살해당했거나, 교도소에 갇혀있는 채로 \n",
    "\n",
    "Who never knew their father, never learned to dream \n",
    "아버지도 모르고, 꿈꾸는 법도 모르고 \n",
    "\n",
    "But was guided by drug dealers, killers and crack fiends \n",
    "마약상, 킬러, 마약중독자들이 길러낸 아이들 \n",
    "\n",
    "For single mothers that's forced to play mom and dad \n",
    "엄마 아빠 노릇을 해야했던 미혼모들을 위해 \n",
    "\n",
    "Bustin' her ass to give her kids shit she never had \n",
    "한번도 가져보지 못한 것을 아이에게 주려고 힘들게 일하고 \n",
    "\n",
    "For my niggaz in the pen hopin' rhymes'll get 'em signed \n",
    "감옥에서 라임으로 계약을 맺길 바라는 이들 \n",
    "\n",
    "So when released, they can say bye to a life of crime \n",
    "그래서 풀려난 후, 범죄의 인생에 작별인사를 할 수 있도록 \n",
    "\n",
    "For very mother that held a son in the street bleedin' \n",
    "피흘리는 아들을 거리에서 껴안았던 어머니들 \n",
    "\n",
    "Cryin' a song of sorow to dark and deep for speakin' \n",
    "슬픔의 노래를 어둠 깊숙히서 부르는 그들 \n",
    "\n",
    "Just a moment outside the day to day struggle \n",
    "짧은 시간동안, 바깥에서 벌어지는 전쟁 속에 \n",
    "\n",
    "To let the ones we really care about know that we love 'em \n",
    "그들에게 우린 정말 그들을 사랑한다는 걸 알리기 위해 \n",
    "\"\"\"\n",
    "moment"
   ]
  },
  {
   "cell_type": "code",
   "execution_count": null,
   "metadata": {},
   "outputs": [],
   "source": [
    "moment.find(\"get\")"
   ]
  },
  {
   "cell_type": "code",
   "execution_count": null,
   "metadata": {},
   "outputs": [],
   "source": [
    "moment=moment.partition(\" \")\n",
    "moment"
   ]
  },
  {
   "cell_type": "code",
   "execution_count": null,
   "metadata": {},
   "outputs": [],
   "source": [
    "moment=moment.split(\"\\n\")\n",
    "moment"
   ]
  },
  {
   "cell_type": "code",
   "execution_count": null,
   "metadata": {},
   "outputs": [],
   "source": [
    "#가사에서 첫글자가 영어인 문자열 뽑아서 리스트 만들기\n",
    "momentlist=moment.splitlines()"
   ]
  },
  {
   "cell_type": "code",
   "execution_count": null,
   "metadata": {},
   "outputs": [],
   "source": [
    "momentlist[0]\n",
    "momentlist[1]"
   ]
  },
  {
   "cell_type": "code",
   "execution_count": null,
   "metadata": {},
   "outputs": [],
   "source": [
    "moment_eng=[]\n",
    "moment_eng.append(momentlist[0])\n",
    "moment_eng"
   ]
  },
  {
   "cell_type": "code",
   "execution_count": null,
   "metadata": {},
   "outputs": [],
   "source": [
    "for i,j in enumerate(momentlist):\n",
    "    if (j[0]>=\"A\") and (j[0]<=\"Z\"):\n",
    "        moment_eng.append(j)"
   ]
  },
  {
   "cell_type": "code",
   "execution_count": null,
   "metadata": {},
   "outputs": [],
   "source": [
    "moment_eng"
   ]
  },
  {
   "cell_type": "code",
   "execution_count": null,
   "metadata": {},
   "outputs": [],
   "source": [
    "def exchange_eng(momentlist,moment_eng):\n",
    "    for i,j in enumerate(momentlist):\n",
    "        if (j[0]>=\"A\") and (j[0]<=\"Z\"):\n",
    "            moment_eng.append(j)\n",
    "#이방식으로 하면 리스트 이기 떄무에 실행 할떄마다 리스트가 추가됨\n",
    "#그래서 리스트를 인자로 전달하는것은 고민해봐야댐\n",
    "# 여기에선 moment_eng 리스트를 전달 받아서 거기에 저장 하니까\n",
    "# 함수 동작 떄마다 실행결과가 추가되버림"
   ]
  },
  {
   "cell_type": "code",
   "execution_count": null,
   "metadata": {},
   "outputs": [],
   "source": [
    "exchange_eng(momentlist,moment_eng)\n",
    "moment_eng"
   ]
  },
  {
   "cell_type": "code",
   "execution_count": null,
   "metadata": {},
   "outputs": [],
   "source": [
    "def exchange_eng(momentlist):\n",
    "    moment_eng=[]\n",
    "    for i,j in enumerate(momentlist):\n",
    "        if (j[0]>=\"A\") and (j[0]<=\"Z\"):\n",
    "            moment_eng.append(j)\n",
    "    return moment_eng\n",
    "# 리턴값으로 moment_eng를 주니까 함수동작시에 리스트를 리턴 받음\n",
    "# 이전의 함수와는 다르게 원본 리스트에 저장해서 하지 안으니\n",
    "# 함수 동작 때마다 결과가 추가 되진 안음"
   ]
  },
  {
   "cell_type": "code",
   "execution_count": null,
   "metadata": {},
   "outputs": [],
   "source": [
    "moment_eng=exchange_eng(momentlist)\n",
    "moment_eng"
   ]
  },
  {
   "cell_type": "code",
   "execution_count": null,
   "metadata": {},
   "outputs": [],
   "source": [
    "#한글만 출력하는법\n",
    "# 일단 영어만 출력된 리스트 moment_eng를 set로 만들어준후\n",
    "# 원래의 momentlist도 set로 만들어 준다.\n",
    "# 그리고 set로 바뀐 두개의 set를 difference로 비교해서\n",
    "# 한글만 추출\n",
    "moment_eng=exchange_eng(momentlist)\n",
    "s_momentlist=set(momentlist)\n",
    "s_moment_eng=set(moment_eng)\n",
    "s_moment_ko=s_momentlist.difference(s_moment_eng)\n",
    "s_moment_ko"
   ]
  },
  {
   "cell_type": "code",
   "execution_count": null,
   "metadata": {},
   "outputs": [],
   "source": [
    "#한글 가사 뽑기 (완성)\n",
    "def exchange_eng(momentlist):\n",
    "    moment_eng=[]\n",
    "    for j in momentlist:\n",
    "        #enumerate는 인덱스를 붙여주는건데 걍 뺴도됨\n",
    "        if not j: #오류 처리 하는 부분 밑에서 J 조건문이 정확하게 동작하기 위함\n",
    "            continue\n",
    "        if (j[0]>=\"A\") and (j[0]<=\"Z\"):\n",
    "            moment_eng.append(j)\n",
    "    return moment_eng\n",
    "moment_eng=exchange_eng(momentlist)\n",
    "s_momentlist=set(momentlist)\n",
    "s_moment_eng=set(moment_eng)\n",
    "s_moment_ko=s_momentlist.difference(s_moment_eng)\n",
    "s_moment_ko"
   ]
  },
  {
   "cell_type": "code",
   "execution_count": null,
   "metadata": {},
   "outputs": [],
   "source": [
    "#한글 가사 뽑기 가사 두개 만들기(완성)\n",
    "momentlist=moment.splitlines()\n",
    "s_moment_ko=[]\n",
    "def exchange_eng(momentlist):\n",
    "    moment_eng=[]\n",
    "    count=0\n",
    "    for j in momentlist:\n",
    "        #enumerate는 인덱스를 붙여주는건데 걍 뺴도됨\n",
    "        if j and (j[0]>=\"A\") and (j[0]<=\"Z\"):\n",
    "            moment_eng.append(j)\n",
    "    return moment_eng\n",
    "\n",
    "def exchange_ko(momentlist):\n",
    "    moment_ko=[]\n",
    "    count=0\n",
    "    for j in momentlist:\n",
    "        #enumerate는 인덱스를 붙여주는건데 걍 뺴도됨\n",
    "            count+=1\n",
    "            if count%2:\n",
    "                moment_ko.append(\"Willay: \")\n",
    "            else:\n",
    "                moment_ko.append(\"Smith: \")\n",
    "            moment_ko[count-1]+=j\n",
    "    return moment_ko\n",
    "s_moment_eng=exchange_eng(momentlist)\n",
    "# s_momentlist=set(momentlist)\n",
    "# s_moment_eng=set(moment_eng)\n",
    "# s_moment_eng\n",
    "s_moment_ko=s_momentlist.difference(s_moment_eng)\n",
    "s_moment_ko=exchange_ko(s_moment_ko)\n",
    "s_moment_ko"
   ]
  },
  {
   "cell_type": "code",
   "execution_count": null,
   "metadata": {
    "slideshow": {
     "slide_type": "-"
    }
   },
   "outputs": [],
   "source": [
    "tel={'he':7042,'lenox':7018}\n",
    "tel['cs']=7000\n",
    "#추가가 되버림 인덱싱이 빠른 순서로 추가됨\n",
    "tel"
   ]
  },
  {
   "cell_type": "code",
   "execution_count": null,
   "metadata": {},
   "outputs": [],
   "source": [
    "# Deep copy\n",
    "d={1:\"hello\",\"two\":42,\"blah\":[1,2,3]}\n",
    "d\n",
    "del(d[\"two\"])\n",
    "d"
   ]
  },
  {
   "cell_type": "code",
   "execution_count": null,
   "metadata": {},
   "outputs": [],
   "source": [
    "from copy import deepcopy as dc\n",
    "d1={'a':1,'b':2}\n",
    "d2=d1\n",
    "d1[1]=12\n",
    "d2"
   ]
  },
  {
   "cell_type": "code",
   "execution_count": null,
   "metadata": {},
   "outputs": [],
   "source": [
    "# shallow copy example\n",
    "from copy import copy\n",
    "d1={'a':{1:12},'b':2}\n",
    "# d2=d1\n",
    "# d2=d1.copy()\n",
    "d2=copy(d1)\n",
    "d1['a'][2]=12\n",
    "d2"
   ]
  },
  {
   "cell_type": "code",
   "execution_count": null,
   "metadata": {},
   "outputs": [],
   "source": [
    "#deep copy example\n",
    "from copy import deepcopy\n",
    "d1={'a':{1:12},'b':2}\n",
    "# d2=d1\n",
    "# d2=d1.copy()\n",
    "d2=deepcopy(d1)\n",
    "d1['a'][2]=12\n",
    "d2\n",
    "d1.items()\n",
    "d1.keys()\n"
   ]
  },
  {
   "cell_type": "code",
   "execution_count": null,
   "metadata": {},
   "outputs": [],
   "source": [
    "[i for i in zip([\"c\",\"d\"],d1.values())]"
   ]
  },
  {
   "cell_type": "code",
   "execution_count": null,
   "metadata": {},
   "outputs": [],
   "source": [
    "list(zip([\"c\",\"d\"],d1.values()))"
   ]
  },
  {
   "cell_type": "code",
   "execution_count": null,
   "metadata": {},
   "outputs": [],
   "source": [
    "dict(zip([\"c\",\"d\"],d1.values()))"
   ]
  },
  {
   "cell_type": "code",
   "execution_count": null,
   "metadata": {},
   "outputs": [],
   "source": [
    "{i:j for i,j in zip([\"c\",\"d\"],d1.values())}"
   ]
  },
  {
   "cell_type": "code",
   "execution_count": null,
   "metadata": {},
   "outputs": [],
   "source": [
    "{i:j for i,j in zip([\"c\",\"c\"],d1.values())}\n",
    "#사전의 단점이 동일한 키 이름을 넣을수 없다"
   ]
  },
  {
   "cell_type": "code",
   "execution_count": null,
   "metadata": {},
   "outputs": [],
   "source": [
    "{i:j for i,j in zip([\"c1\",\"c2\"],d1.values())}\n",
    "#c1 c2처럼 번호라도 붙여줘야댐"
   ]
  },
  {
   "cell_type": "code",
   "execution_count": null,
   "metadata": {},
   "outputs": [],
   "source": [
    "d1.get(\"c\")"
   ]
  },
  {
   "cell_type": "code",
   "execution_count": null,
   "metadata": {},
   "outputs": [],
   "source": [
    "d2.get(\"c\",\"없다\")\n",
    "# c 가 없을때는 뒤에 \"없다\"가 출력됨\n",
    "d2"
   ]
  },
  {
   "cell_type": "code",
   "execution_count": null,
   "metadata": {},
   "outputs": [],
   "source": [
    "d2.setdefault(\"c\",\"없다\")\n",
    "# 두번쨰 인자가 value로 추가됨"
   ]
  },
  {
   "cell_type": "code",
   "execution_count": null,
   "metadata": {},
   "outputs": [],
   "source": [
    "d2"
   ]
  },
  {
   "cell_type": "code",
   "execution_count": null,
   "metadata": {},
   "outputs": [],
   "source": [
    "d1.pop('a')"
   ]
  },
  {
   "cell_type": "code",
   "execution_count": null,
   "metadata": {},
   "outputs": [],
   "source": [
    "d1.popitem()"
   ]
  },
  {
   "cell_type": "code",
   "execution_count": null,
   "metadata": {},
   "outputs": [],
   "source": [
    "d2.clear()\n",
    "d2.update({1: 12, 2: 12})\n",
    "d2.update({'a': 12, 'b': 12})"
   ]
  },
  {
   "cell_type": "code",
   "execution_count": null,
   "metadata": {},
   "outputs": [],
   "source": [
    "d2"
   ]
  },
  {
   "cell_type": "code",
   "execution_count": null,
   "metadata": {},
   "outputs": [],
   "source": [
    "if d2['a']:\n",
    "    d2['f']=d2['b']\n",
    "    del d2['b']"
   ]
  },
  {
   "cell_type": "code",
   "execution_count": null,
   "metadata": {},
   "outputs": [],
   "source": [
    "d2"
   ]
  },
  {
   "cell_type": "code",
   "execution_count": null,
   "metadata": {},
   "outputs": [],
   "source": [
    "#사전에 가사 넣기\n",
    "#한글 가사 뽑기 가사 두개 만들기(완성)\n",
    "momentlist=moment.splitlines()\n",
    "s_moment_ko=[]\n",
    "def exchange_eng(momentlist):\n",
    "    moment_eng=[]\n",
    "    count=0\n",
    "    for j in momentlist:\n",
    "        #enumerate는 인덱스를 붙여주는건데 걍 뺴도됨\n",
    "        if j and (j[0]>=\"A\") and (j[0]<=\"Z\"):\n",
    "            moment_eng.append(j)\n",
    "    return moment_eng\n",
    "\n",
    "def exchange_ko(momentlist):\n",
    "    moment_ko= dict()\n",
    "    cnt=cnt1=count=0\n",
    "    for j in momentlist:\n",
    "        #enumerate는 인덱스를 붙여주는건데 걍 뺴도됨\n",
    "            count+=1\n",
    "            if count%2:\n",
    "                cnt+=1;s=f\"Willay {cnt}: \";moment_ko[s]=j\n",
    "            else:\n",
    "                cnt+=1;s1=f\"Smith {cnt}: \";moment_ko[s1]=j\n",
    "    return moment_ko\n",
    "s_moment_eng=exchange_eng(momentlist)\n",
    "s_moment_ko=s_momentlist.difference(s_moment_eng)\n",
    "s_moment_ko=exchange_ko(s_moment_ko)\n",
    "print(s_moment_ko)"
   ]
  },
  {
   "cell_type": "code",
   "execution_count": 3,
   "metadata": {},
   "outputs": [
    {
     "data": {
      "text/plain": [
       "0"
      ]
     },
     "execution_count": 3,
     "metadata": {},
     "output_type": "execute_result"
    }
   ],
   "source": [
    "#os library\n",
    "import os\n",
    "os.getcwd()\n",
    "\n",
    "os.system('ls')"
   ]
  },
  {
   "cell_type": "code",
   "execution_count": null,
   "metadata": {},
   "outputs": [],
   "source": [
    "os.chdir('/Users/Edwardson/Dropbox/codex/Coding_in_Mac/em/Python/0627')"
   ]
  },
  {
   "cell_type": "code",
   "execution_count": null,
   "metadata": {},
   "outputs": [],
   "source": [
    "os.system('mkdir -p test/t1')"
   ]
  },
  {
   "cell_type": "code",
   "execution_count": null,
   "metadata": {},
   "outputs": [],
   "source": [
    "os.listdir(\"test\")"
   ]
  },
  {
   "cell_type": "code",
   "execution_count": null,
   "metadata": {},
   "outputs": [],
   "source": [
    "os.listdir(os.getcwd())"
   ]
  },
  {
   "cell_type": "code",
   "execution_count": null,
   "metadata": {},
   "outputs": [],
   "source": [
    "os.system('ls -al')"
   ]
  },
  {
   "cell_type": "code",
   "execution_count": 11,
   "metadata": {},
   "outputs": [
    {
     "data": {
      "text/plain": [
       "'/Users/Edwardson/Dropbox/Codex/Coding_in_Mac/em/Python/0627'"
      ]
     },
     "execution_count": 11,
     "metadata": {},
     "output_type": "execute_result"
    }
   ],
   "source": [
    "os.getcwd()"
   ]
  },
  {
   "cell_type": "code",
   "execution_count": 12,
   "metadata": {},
   "outputs": [
    {
     "data": {
      "text/plain": [
       "'/Users/Edwardson/Dropbox/Codex/Coding_in_Mac/em/Python/0627/test'"
      ]
     },
     "execution_count": 12,
     "metadata": {},
     "output_type": "execute_result"
    }
   ],
   "source": [
    "#os라이브러리로 파일 만들고 복사 이동예제\n",
    "import os\n",
    "os.chdir('test')\n",
    "os.system('touch data.db')\n",
    "os.listdir()\n",
    "import shutil\n",
    "# os.chdir('test')\n",
    "shutil.copyfile('data.db','archive.db')\n",
    "shutil.move('archive.db','t1/archive.db')\n",
    "os.listdir()\n",
    "os.getcwd()"
   ]
  },
  {
   "cell_type": "code",
   "execution_count": 13,
   "metadata": {},
   "outputs": [
    {
     "data": {
      "text/plain": [
       "0"
      ]
     },
     "execution_count": 13,
     "metadata": {},
     "output_type": "execute_result"
    }
   ],
   "source": [
    "os.system('rm data.db t1/archive.db')"
   ]
  },
  {
   "cell_type": "code",
   "execution_count": 19,
   "metadata": {},
   "outputs": [
    {
     "data": {
      "text/plain": [
       "['Untitled.ipynb']"
      ]
     },
     "execution_count": 19,
     "metadata": {},
     "output_type": "execute_result"
    }
   ],
   "source": [
    "import glob\n",
    "glob.glob('*.ip*')"
   ]
  },
  {
   "cell_type": "code",
   "execution_count": 20,
   "metadata": {},
   "outputs": [
    {
     "name": "stdout",
     "output_type": "stream",
     "text": [
      "['demo.py', 'one', 'two', 'wwww']\r\n"
     ]
    }
   ],
   "source": [
    "!python3 demo.py one two wwww"
   ]
  },
  {
   "cell_type": "code",
   "execution_count": 5,
   "metadata": {},
   "outputs": [
    {
     "data": {
      "text/plain": [
       "'/Users/Edwardson/Dropbox/Codex/Coding_in_Mac/em/Python/0627'"
      ]
     },
     "execution_count": 5,
     "metadata": {},
     "output_type": "execute_result"
    }
   ],
   "source": [
    "import os\n",
    "os.getcwd()"
   ]
  },
  {
   "cell_type": "code",
   "execution_count": 21,
   "metadata": {},
   "outputs": [],
   "source": [
    "?sys.stdin.readline"
   ]
  },
  {
   "cell_type": "code",
   "execution_count": 34,
   "metadata": {},
   "outputs": [],
   "source": [
    "import sys\n",
    "# sys.stderr.write(\"Warning\")\n",
    "for line in sys.stdin.read():\n",
    "    print(line)"
   ]
  },
  {
   "cell_type": "code",
   "execution_count": null,
   "metadata": {},
   "outputs": [],
   "source": [
    "sys.stdout.write(\"t3.txt\")\n"
   ]
  },
  {
   "cell_type": "code",
   "execution_count": 37,
   "metadata": {},
   "outputs": [],
   "source": [
    "?os.copyfile"
   ]
  },
  {
   "cell_type": "code",
   "execution_count": 6,
   "metadata": {},
   "outputs": [
    {
     "name": "stdout",
     "output_type": "stream",
     "text": [
      "qwe\n",
      "qwe"
     ]
    }
   ],
   "source": [
    "import sys,os,shutil\n",
    "str1=input()\n",
    "temp=sys.stdout\n",
    "sys.stdout=open('log.txt','w')\n",
    "sys.stdout.write(str1)\n",
    "sys.stdout.close()\n",
    "sys.stdout=temp\n",
    "!cat log.txt"
   ]
  },
  {
   "cell_type": "code",
   "execution_count": 4,
   "metadata": {},
   "outputs": [
    {
     "data": {
      "text/plain": [
       "['013-737-7924', '010-2961-5041', '010-7128-9992', '019-2922-8372']"
      ]
     },
     "execution_count": 4,
     "metadata": {},
     "output_type": "execute_result"
    }
   ],
   "source": [
    "import re\n",
    "# re.findall(r\"\\bf[a-z]*\",\"which foot or hand fell fastest\")\n",
    "re.findall(r\"\\d*-\\d*-\\d*\",\"\"\"013-737-7924,\n",
    "298471124,010-2961-5041,12ube1231,3:12,\n",
    "qweqwe 010-7128-9992 019-2922-8372\"\"\")"
   ]
  },
  {
   "cell_type": "code",
   "execution_count": 23,
   "metadata": {},
   "outputs": [
    {
     "data": {
      "text/plain": [
       "['010-2961-5041,', '010-7128-9992 ', '019-2922-8372,']"
      ]
     },
     "execution_count": 23,
     "metadata": {},
     "output_type": "execute_result"
    }
   ],
   "source": [
    "re.findall(r\"01\\d-\\d{3,4}-\\d{4}[\\D]\\b\",\"\"\"013-737-7924,\n",
    "298471124,010-2961-5041,12ube1231,3:12,\n",
    "qweqwe 010-7128-9992 019-2922-8372,1112-123123-1231, 011-2020-1\"\"\")"
   ]
  },
  {
   "cell_type": "code",
   "execution_count": 94,
   "metadata": {},
   "outputs": [
    {
     "name": "stdout",
     "output_type": "stream",
     "text": [
      "3192 3402 3405\n"
     ]
    }
   ],
   "source": [
    "import random\n",
    "apple=pear=banana=0\n",
    "for i in range(1,10000):\n",
    "    temp=random.choice(['apple','pear','banana'])\n",
    "    if temp =='apple':\n",
    "        apple+=1\n",
    "    \n",
    "    elif temp == 'pear':\n",
    "        pear+=1\n",
    "    \n",
    "    else:\n",
    "        banana+=1\n",
    "        \n",
    "print(apple, pear, banana)\n",
    "#     print(random.choice(['apple','pear','banana']))"
   ]
  },
  {
   "cell_type": "code",
   "execution_count": 96,
   "metadata": {},
   "outputs": [
    {
     "data": {
      "text/plain": [
       "0.6632038650536559"
      ]
     },
     "execution_count": 96,
     "metadata": {},
     "output_type": "execute_result"
    }
   ],
   "source": [
    "random.random()"
   ]
  },
  {
   "cell_type": "code",
   "execution_count": 107,
   "metadata": {},
   "outputs": [
    {
     "data": {
      "text/plain": [
       "32278493"
      ]
     },
     "execution_count": 107,
     "metadata": {},
     "output_type": "execute_result"
    }
   ],
   "source": [
    "random.randrange(99999999.999999999)"
   ]
  },
  {
   "cell_type": "code",
   "execution_count": 103,
   "metadata": {},
   "outputs": [],
   "source": [
    "random.seed(77)"
   ]
  },
  {
   "cell_type": "code",
   "execution_count": 3,
   "metadata": {},
   "outputs": [
    {
     "name": "stdout",
     "output_type": "stream",
     "text": [
      "any number: 40\n",
      "Up\n",
      "any number: 50\n",
      "Up\n",
      "any number: 60\n",
      "Up\n",
      "any number: 70\n",
      "Up\n",
      "any number: 80\n",
      "Down\n",
      "any number: 79\n",
      "Down\n",
      "any number: 75\n",
      "Down\n",
      "any number: 74\n",
      "Down\n",
      "any number: 73\n",
      "Down\n",
      "any number: 72\n",
      "Down\n",
      "any number: 71\n",
      "Correct the Number is 71\n"
     ]
    }
   ],
   "source": [
    "#up & down game\n",
    "import random\n",
    "guess=random.randrange(100)\n",
    "while 1:\n",
    "    user_in=int(input(\"any number: \"))\n",
    "    if (user_in>guess):\n",
    "        print(\"Down\")\n",
    "    elif (user_in<guess):\n",
    "        print(\"Up\")\n",
    "\n",
    "    if user_in==guess:\n",
    "        print(\"Correct the Number is %d\"%(guess))\n",
    "        break\n",
    "    "
   ]
  },
  {
   "cell_type": "code",
   "execution_count": 23,
   "metadata": {},
   "outputs": [],
   "source": [
    "#Web crawlling\n",
    "from urllib.request import urlopen\n",
    "# a=urlopen(\"http://www.naver.com\")\n",
    "a=urlopen(\"http://ehdwn1991.github.io\")\n",
    "f=open(\"ex.html\",\"wt\",encoding= 'UTF-8')\n",
    "# for i in a.read().decode():\n",
    "#     print(i)\n",
    "print(a.read().decode(),file=f)\n",
    "f.close()\n"
   ]
  },
  {
   "cell_type": "code",
   "execution_count": 22,
   "metadata": {},
   "outputs": [
    {
     "data": {
      "text/plain": [
       "True"
      ]
     },
     "execution_count": 22,
     "metadata": {},
     "output_type": "execute_result"
    }
   ],
   "source": [
    "import webbrowser as wb\n",
    "wb.open(\"ex.html\")"
   ]
  },
  {
   "cell_type": "code",
   "execution_count": 10,
   "metadata": {},
   "outputs": [
    {
     "data": {
      "text/plain": [
       "'/Users/Edwardson/Dropbox/Codex/Coding_in_Mac/em/Python/0627'"
      ]
     },
     "execution_count": 10,
     "metadata": {},
     "output_type": "execute_result"
    }
   ],
   "source": [
    "import os\n",
    "os.getcwd()"
   ]
  },
  {
   "cell_type": "code",
   "execution_count": 29,
   "metadata": {},
   "outputs": [
    {
     "name": "stdout",
     "output_type": "stream",
     "text": [
      "2018-06-27\n",
      "26.632876712328766 years old\n"
     ]
    }
   ],
   "source": [
    "#weather and time\n",
    "from datetime import date\n",
    "now = date.today()\n",
    "print(now)\n",
    "now.strftime(\"%m-%d-%y. %d%b%Y is a %A on the %d day of %B.\")\n",
    "birthday=date(1991,11,15)\n",
    "age= now-birthday\n",
    "print(age.days/365,\"years old\")"
   ]
  },
  {
   "cell_type": "code",
   "execution_count": 47,
   "metadata": {},
   "outputs": [
    {
     "name": "stdout",
     "output_type": "stream",
     "text": [
      "<class 'bytes'>\n",
      "<class 'bytes'>\n"
     ]
    },
    {
     "data": {
      "text/plain": [
       "'witch which has which witchs wrist watch'"
      ]
     },
     "execution_count": 47,
     "metadata": {},
     "output_type": "execute_result"
    }
   ],
   "source": [
    "#압축\n",
    "import zlib\n",
    "s='witch which has which witchs wrist watch'\n",
    "len(s)\n",
    "\n",
    "t=zlib.compress(s.encode())\n",
    "len(t)\n",
    "print(type(t))\n",
    "print(type(zlib.decompress(t)))\n",
    "zlib.decompress(t).decode()\n",
    "# print(zlib.decompress(t).decode())\n"
   ]
  },
  {
   "cell_type": "code",
   "execution_count": 39,
   "metadata": {},
   "outputs": [
    {
     "data": {
      "text/plain": [
       "3905471969"
      ]
     },
     "execution_count": 39,
     "metadata": {},
     "output_type": "execute_result"
    }
   ],
   "source": [
    "zlib.crc32(s.encode())"
   ]
  },
  {
   "cell_type": "code",
   "execution_count": 56,
   "metadata": {},
   "outputs": [
    {
     "data": {
      "text/plain": [
       "0.03854525601491332"
      ]
     },
     "execution_count": 56,
     "metadata": {},
     "output_type": "execute_result"
    }
   ],
   "source": [
    "#Timer\n",
    "\n",
    "from timeit import Timer\n",
    "Timer('t=a; a=b; b=t', 'a=1;b=2').timeit()\n"
   ]
  },
  {
   "cell_type": "code",
   "execution_count": 51,
   "metadata": {},
   "outputs": [
    {
     "data": {
      "text/plain": [
       "0.02922459808178246"
      ]
     },
     "execution_count": 51,
     "metadata": {},
     "output_type": "execute_result"
    }
   ],
   "source": [
    "Timer('a,b=b,a','a=1;b=2').timeit()"
   ]
  },
  {
   "cell_type": "code",
   "execution_count": 74,
   "metadata": {},
   "outputs": [
    {
     "data": {
      "text/plain": [
       "TestResults(failed=0, attempted=1)"
      ]
     },
     "execution_count": 74,
     "metadata": {},
     "output_type": "execute_result"
    }
   ],
   "source": [
    "#품질 관리 p.110\n",
    "def average(values):\n",
    "    \"\"\"\n",
    "    Computes the arithmetic mean of a list of numvers.\n",
    "    >>> print(average([20,30,70]))\n",
    "    40.0\n",
    "    \"\"\"\n",
    "    return sum(values,0.0)/len(values)\n",
    "\n",
    "import doctest\n",
    "doctest.testmod()"
   ]
  },
  {
   "cell_type": "code",
   "execution_count": null,
   "metadata": {},
   "outputs": [],
   "source": []
  },
  {
   "cell_type": "code",
   "execution_count": 89,
   "metadata": {},
   "outputs": [
    {
     "name": "stderr",
     "output_type": "stream",
     "text": [
      "E\n",
      "======================================================================\n",
      "ERROR: /Users/Edwardson/Library/Jupyter/runtime/kernel-6519b49a-efbe-42d1-9d98-b71c1b7d3bc4 (unittest.loader._FailedTest)\n",
      "----------------------------------------------------------------------\n",
      "AttributeError: module '__main__' has no attribute '/Users/Edwardson/Library/Jupyter/runtime/kernel-6519b49a-efbe-42d1-9d98-b71c1b7d3bc4'\n",
      "\n",
      "----------------------------------------------------------------------\n",
      "Ran 1 test in 0.001s\n",
      "\n",
      "FAILED (errors=1)\n"
     ]
    },
    {
     "ename": "SystemExit",
     "evalue": "True",
     "output_type": "error",
     "traceback": [
      "An exception has occurred, use %tb to see the full traceback.\n",
      "\u001b[0;31mSystemExit\u001b[0m\u001b[0;31m:\u001b[0m True\n"
     ]
    },
    {
     "name": "stderr",
     "output_type": "stream",
     "text": [
      "/usr/local/lib/python3.6/site-packages/IPython/core/interactiveshell.py:2971: UserWarning: To exit: use 'exit', 'quit', or Ctrl-D.\n",
      "  warn(\"To exit: use 'exit', 'quit', or Ctrl-D.\", stacklevel=1)\n"
     ]
    }
   ],
   "source": [
    "#품질 관리 p.111 => 터미널 파이썬에서는 잘돌아감\n",
    "def average(values):\n",
    "    \"\"\"\n",
    "    Computes the arithmetic mean of a list of numvers.\n",
    "    >>> print(average([20,30,70]))\n",
    "    40.0\n",
    "    \"\"\"\n",
    "    return sum(values,0.0)/len(values)\n",
    "import doctest\n",
    "doctest.testmod()\n",
    "\n",
    "import unittest\n",
    "class TestStatisticalFunctinos(unittest.TestCase):\n",
    "    def test_average(self):\n",
    "        self.assertEqual(average([20, 30, 70]), 40.0)\n",
    "        self.assertEqual(round(average([1, 5, 7]),1), 4.3)\n",
    "        self.assertRaises(ZeroDivisionError, average,[])\n",
    "        self.assertRaises(TypeError, average, 20, 30, 70)\n",
    "unittest.main()\n",
    "# unittest"
   ]
  },
  {
   "cell_type": "code",
   "execution_count": 90,
   "metadata": {},
   "outputs": [],
   "source": [
    "quit"
   ]
  }
 ],
 "metadata": {
  "kernelspec": {
   "display_name": "Python 3",
   "language": "python",
   "name": "python3"
  },
  "language_info": {
   "codemirror_mode": {
    "name": "ipython",
    "version": 3
   },
   "file_extension": ".py",
   "mimetype": "text/x-python",
   "name": "python",
   "nbconvert_exporter": "python",
   "pygments_lexer": "ipython3",
   "version": "3.6.5"
  }
 },
 "nbformat": 4,
 "nbformat_minor": 2
}
