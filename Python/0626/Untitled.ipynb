{
 "cells": [
  {
   "cell_type": "code",
   "execution_count": null,
   "metadata": {},
   "outputs": [],
   "source": [
    "a=10\n",
    "a"
   ]
  },
  {
   "cell_type": "code",
   "execution_count": null,
   "metadata": {},
   "outputs": [],
   "source": [
    "3+5"
   ]
  },
  {
   "cell_type": "code",
   "execution_count": null,
   "metadata": {},
   "outputs": [],
   "source": [
    "2+1"
   ]
  },
  {
   "cell_type": "code",
   "execution_count": null,
   "metadata": {},
   "outputs": [],
   "source": [
    "id(x)"
   ]
  },
  {
   "cell_type": "code",
   "execution_count": null,
   "metadata": {},
   "outputs": [],
   "source": [
    "id(a)"
   ]
  },
  {
   "cell_type": "code",
   "execution_count": null,
   "metadata": {},
   "outputs": [],
   "source": [
    "x = [1,2,3]\n",
    "y=x\n",
    "id(x), id(y)\n",
    "x+=[4,5]\n",
    "print(id(x), id(y))"
   ]
  },
  {
   "cell_type": "code",
   "execution_count": null,
   "metadata": {},
   "outputs": [],
   "source": [
    "y=x[:]\n",
    "id(x),id(y)"
   ]
  },
  {
   "cell_type": "code",
   "execution_count": null,
   "metadata": {},
   "outputs": [],
   "source": [
    "x.append([4,5])\n",
    "x, y\n",
    "id(x), id(y)"
   ]
  },
  {
   "cell_type": "code",
   "execution_count": null,
   "metadata": {},
   "outputs": [],
   "source": [
    "x, y"
   ]
  },
  {
   "cell_type": "code",
   "execution_count": null,
   "metadata": {},
   "outputs": [],
   "source": [
    "x[2].append(10)\n",
    "print(id(x),x)\n",
    "print(id(y),y)"
   ]
  },
  {
   "cell_type": "code",
   "execution_count": null,
   "metadata": {},
   "outputs": [],
   "source": [
    "x[2].append(1)\n",
    "x"
   ]
  },
  {
   "cell_type": "code",
   "execution_count": null,
   "metadata": {},
   "outputs": [],
   "source": [
    "a=[\"spam\",\"eggs\",100,1234,2*2]"
   ]
  },
  {
   "cell_type": "code",
   "execution_count": null,
   "metadata": {},
   "outputs": [],
   "source": [
    "a[:2]\n",
    "\n"
   ]
  },
  {
   "cell_type": "code",
   "execution_count": null,
   "metadata": {},
   "outputs": [],
   "source": [
    "a[2]+=23\n",
    "a"
   ]
  },
  {
   "cell_type": "code",
   "execution_count": null,
   "metadata": {},
   "outputs": [],
   "source": [
    "\n",
    "a[0:2]=[1,12]\n",
    "a"
   ]
  },
  {
   "cell_type": "code",
   "execution_count": null,
   "metadata": {},
   "outputs": [],
   "source": [
    "a[0:0]=[0]\n",
    "a"
   ]
  },
  {
   "cell_type": "code",
   "execution_count": null,
   "metadata": {},
   "outputs": [],
   "source": [
    "def uni(x):\n",
    "\treturn x%10\n",
    "li = [1232,3839,22201,38482938]\n",
    "li.sort(key=uni,reverse=True)\n",
    "print(li)"
   ]
  },
  {
   "cell_type": "code",
   "execution_count": null,
   "metadata": {},
   "outputs": [],
   "source": [
    "a=iter(li)\n",
    "next(a)"
   ]
  },
  {
   "cell_type": "code",
   "execution_count": null,
   "metadata": {},
   "outputs": [],
   "source": [
    "a=3; b=5; print(\"%d+%d\"%(a,b))\n",
    "exec(\"%d+%d;c=int(input());print(a+b+c)\"%(a,b))"
   ]
  },
  {
   "cell_type": "code",
   "execution_count": null,
   "metadata": {},
   "outputs": [],
   "source": [
    "?input"
   ]
  },
  {
   "cell_type": "code",
   "execution_count": null,
   "metadata": {},
   "outputs": [],
   "source": [
    "def foo(f):\n",
    "\tmsg=f\"hello {f.__name__}\"\n",
    "\tdef wrapper(*a,**k):\n",
    "\t\tprint(msg)\n",
    "\t\treturn f(*a,**k)\n",
    "\treturn wrapper\n",
    "@foo\n",
    "def bar(name,age,he):\n",
    "\tprint(f\"{name} is {age} years old  height: {he}\")\n",
    "bar(age =22,he = 180,name=\"dj\")"
   ]
  },
  {
   "cell_type": "code",
   "execution_count": null,
   "metadata": {},
   "outputs": [],
   "source": [
    "#시간 함수\n",
    "def foo(f):\n",
    "\tmsg=f\"hello {f.__name__}\"\n",
    "\tdef wrapper(*a,**k):\n",
    "\t\tprint(msg)\n",
    "\t\treturn f(*a,**k)\n",
    "\treturn wrapper\n",
    "\n",
    "def zoo(f):\n",
    "    import datetime\n",
    "    t1 = datetime.datetime.now()\n",
    "    def wrapper(*a,**k):\n",
    "        print(datetime.datetime.now())\n",
    "        print(t1,end=\"  \")\n",
    "        print(\"msec\")\n",
    "        return f(*a,**k)\n",
    "    return wrapper\n",
    "@foo\n",
    "@zoo\n",
    "def bar(name,age):\n",
    "    print(f\"{name} is {age} years old\")\n",
    "bar(age=20,name=\"dj\")"
   ]
  },
  {
   "cell_type": "code",
   "execution_count": null,
   "metadata": {},
   "outputs": [],
   "source": [
    "#시간 함수 강제 시간 차이나게 하기 10초 뒤에 함수 동작 time.sleep이 10초동안 잠듦\n",
    "def foo(f):\n",
    "\tmsg=f\"hello {f.__name__}\"\n",
    "\tdef wrapper(*a,**k):\n",
    "\t\tprint(msg)\n",
    "\t\treturn f(*a,**k)\n",
    "\treturn wrapper\n",
    "\n",
    "def zoo(f):\n",
    "    import time\n",
    "    t1 = time.time()\n",
    "    def wrapper(*a,**k):\n",
    "        time.sleep(10);\n",
    "        t2=time.time();\n",
    "        print(t2-t1)\n",
    "        print(\"sec\")\n",
    "        return f(*a,**k)\n",
    "    return wrapper\n",
    "# @foo #bar=foo(bar)\n",
    "# @zoo #bar=zoo(bar)  bar 함수 기준으로 가장 가까이있는게 먼저 되야 하니까 zoo가 먼저 실행되고 foo가 실행된다.\n",
    "# @zoo @foo 와 같은 효과를 가지려면 bar=foo(zoo(bar)) 일케 해줘야댐\n",
    "def bar(name,age):\n",
    "    print(f\"{name} is {age} years old\")\n",
    "bar=foo(zoo(bar)) #먼저 bar를 호출한 zoo가 반환을 하고 그걸 foo가 받아서 동작 하기떄문에 zoo가 bar 에 가깝다고 보면된다.\n",
    "bar(age=20,name=\"dj\")"
   ]
  },
  {
   "cell_type": "code",
   "execution_count": null,
   "metadata": {},
   "outputs": [],
   "source": [
    "#시간 함수 강제 시간 차이나게 하기 10초 뒤에 함수 동작 time.sleep이 10초동안 잠듦\n",
    "def foo(f):\n",
    "\tmsg=f\"hello {f.__name__}\"\n",
    "\tdef wrapper(*a,**k):\n",
    "\t\tprint(msg)\n",
    "\t\treturn f(*a,**k)\n",
    "\treturn wrapper\n",
    "\n",
    "def zoo(f):\n",
    "    import time\n",
    "    t1 = time.time()\n",
    "    def wrapper(*a,**k):\n",
    "        time.sleep(10);\n",
    "        t2=time.time();\n",
    "        print(t2-t1)\n",
    "        print(\"sec\")\n",
    "        return f(*a,**k)\n",
    "    return wrapper\n",
    "# @foo #bar=foo(bar)\n",
    "# @zoo #bar=zoo(bar)  bar 함수 기준으로 가장 가까이있는게 먼저 되야 하니까 zoo가 먼저 실행되고 foo가 실행된다.\n",
    "# @zoo @foo 와 같은 효과를 가지려면 bar=foo(zoo(bar)) 일케 해줘야댐\n",
    "def bar(name,age):\n",
    "    print(f\"{name} is {age} years old\")\n",
    "bar1  =zoo(bar)\n",
    "bar=foo(bar1)\n",
    "# 이런순서로 된다고 보면됨 zoo가 먼저 실행 되고 10초 대기하는중에 foo가 실핸되고 10초가 끝나면 나머지 zoo 동작\n",
    "bar(age=20,name=\"dj\")"
   ]
  },
  {
   "cell_type": "code",
   "execution_count": null,
   "metadata": {},
   "outputs": [],
   "source": [
    "#시간 함수 강제 시간 차이나게 하기 10초 뒤에 함수 동작 time.sleep이 10초동안 잠듦\n",
    "def foo(f):\n",
    "\tmsg=f\"hello {f.__name__}\"\n",
    "\tdef wrapper(*a,**k):\n",
    "\t\tprint(msg)\n",
    "\t\treturn f(*a,**k)\n",
    "\treturn wrapper\n",
    "\n",
    "def zoo(f):\n",
    "    import time\n",
    "    t1 = time.time()\n",
    "    def wrapper(*a,**k):\n",
    "        time.sleep(10);\n",
    "        t2=time.time();\n",
    "        print(t2-t1)\n",
    "        print(\"sec\")\n",
    "        return f(*a,**k)\n",
    "    return wrapper\n",
    "@zoo #bar1= foo(bar)\n",
    "@foo #bar=zoo(bar1)\n",
    "일케하면 foo가 먼저 실행되고 zoork tlfgodehla\n",
    "# @foo #bar=fo은 효과를 가지려면 bar=foo(zoo(bar)) 일케 해줘야댐\n",
    "def bar(name,age):\n",
    "    print(f\"{name} is {age} years old\")\n",
    "# bar1 된다고 보면됨 zoo가 먼저 실행 되고 10초 대기하는중에 foo가 실핸되고 10초가 끝나면 나머지 zoo 동작\n",
    "bar(age=20,name=\"dj\")"
   ]
  }
 ],
 "metadata": {
  "kernelspec": {
   "display_name": "Python 3",
   "language": "python",
   "name": "python3"
  },
  "language_info": {
   "codemirror_mode": {
    "name": "ipython",
    "version": 3
   },
   "file_extension": ".py",
   "mimetype": "text/x-python",
   "name": "python",
   "nbconvert_exporter": "python",
   "pygments_lexer": "ipython3",
   "version": "3.6.5"
  }
 },
 "nbformat": 4,
 "nbformat_minor": 2
}
