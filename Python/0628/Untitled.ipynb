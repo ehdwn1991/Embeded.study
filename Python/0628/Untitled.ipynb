{
 "cells": [
  {
   "cell_type": "code",
   "execution_count": 6,
   "metadata": {},
   "outputs": [
    {
     "name": "stdout",
     "output_type": "stream",
     "text": [
      "2018-06-28 09:12:04.320829\n",
      "2018-06-28 06:12:04.320829\n",
      "오늘은 2018년 06월 28일(Thu) AM 09시 12분 04초 입니다. 오늘은 올해중 25번쨰 주입니다.\n"
     ]
    }
   ],
   "source": [
    "from datetime import datetime\n",
    "now = datetime.now()\n",
    "print(now)\n",
    "from datetime import timedelta\n",
    "delta_three_hours_before=timedelta(hours=3)\n",
    "three_hours_before=now- delta_three_hours_before\n",
    "print(three_hours_before)\n",
    "formatted_now=now.strftime(\"오늘은 %Y년 %m월 %d일(%a) %p %I시 %M분 %S초 입니다. 오늘은 올해중 %U번쨰 주입니다.\")\n",
    "print(formatted_now)\n"
   ]
  },
  {
   "cell_type": "code",
   "execution_count": 68,
   "metadata": {},
   "outputs": [
    {
     "name": "stdout",
     "output_type": "stream",
     "text": [
      "몇일 뒤가 궁금?12\n",
      "12일 후는 2018년 07월 10일 입니다.\n",
      "2018-07-10 09:38:18.268615\n"
     ]
    }
   ],
   "source": [
    "# N일 후의 년월일 구하기\n",
    "from datetime import datetime,timedelta\n",
    "def howday():\n",
    "    now=datetime.now()\n",
    "    drt= int(input(\"몇일 뒤가 궁금?\"))\n",
    "    dt= timedelta(days=drt)\n",
    "    esult=now +dt\n",
    "    result=esult.strftime(\"{0}일 후는 %Y년 %m월 %d일 입니다.\".format(drt))\n",
    "    print(result)\n",
    "    print(esult)\n",
    "    \n",
    "howday()\n",
    "    "
   ]
  },
  {
   "cell_type": "code",
   "execution_count": 79,
   "metadata": {},
   "outputs": [
    {
     "name": "stdout",
     "output_type": "stream",
     "text": [
      "gg_test.py\n",
      "<generator object _iglob at 0x109c3c0a0>\n",
      "['gg_test.py']\n"
     ]
    }
   ],
   "source": [
    "import glob\n",
    "glob.glob('*.py')\n",
    "files=glob.iglob('*.py')\n",
    "for x in files:\n",
    "    print(x)\n",
    "    \n",
    "files2=glob.glob('*.py')\n",
    "print(files)\n",
    "print(files2)"
   ]
  },
  {
   "cell_type": "code",
   "execution_count": 93,
   "metadata": {},
   "outputs": [
    {
     "name": "stdout",
     "output_type": "stream",
     "text": [
      "::::::gg2_test.py\n",
      "\n",
      "::::::gg_test.py\n",
      "\n",
      "::::::gg1_test.py\n",
      "\n",
      "::::::test.py\n",
      "# #!/usr/bin/python3\n",
      "# # import systems module\n",
      "# import sys\n",
      "# marker='::::::'\n",
      "# for name in sys.argv[1:]:\n",
      "#     input =open(name,'r')\n",
      "#     print(marker+name)\n",
      "#     print(input.read())\n",
      "\n",
      "\n",
      "\n",
      "# 해당 파일의 내용을 보여준다.\n",
      "#!/usr/bin/python3\n",
      "# import systems module\n",
      "import glob\n",
      "marker='::::::'\n",
      "for name in glob.iglob('*.py'):\n",
      "    input =open(name,'r',encoding='utf8')\n",
      "    print(marker+name)\n",
      "    print(input.read())\n"
     ]
    }
   ],
   "source": [
    "# #!/usr/bin/python3\n",
    "# # import systems module\n",
    "# import sys\n",
    "# marker='::::::'\n",
    "# for name in sys.argv[1:]:\n",
    "#     input =open(name,'r')\n",
    "#     print(marker+name)\n",
    "#     print(input.read())\n",
    "\n",
    "\n",
    "\n",
    "# 해당 파일의 내용을 보여준다.\n",
    "#!/usr/bin/python3\n",
    "# import systems module\n",
    "import glob\n",
    "marker='::::::'\n",
    "for name in glob.iglob('*.py'):\n",
    "    input =open(name,'r',encoding='utf8')\n",
    "    #utf8로 해줘야 다국어 처리가능\n",
    "    print(marker+name)\n",
    "    print(input.read())\n"
   ]
  },
  {
   "cell_type": "code",
   "execution_count": 94,
   "metadata": {},
   "outputs": [
    {
     "name": "stdout",
     "output_type": "stream",
     "text": [
      "[1, 12, 123, 'hello']\n"
     ]
    }
   ],
   "source": [
    "import pickle\n",
    "with open('pydata.pickle','wb') as pydatastroe:\n",
    "    pickle.dump([1,12,123,'hello'],pydatastroe)\n",
    "with open('pydata.pickle','rb') as pydataload:\n",
    "        savelist=pickle.load(pydataload)\n",
    "        \n",
    "print(savelist)\n",
    "\n",
    "    "
   ]
  },
  {
   "cell_type": "code",
   "execution_count": 112,
   "metadata": {},
   "outputs": [
    {
     "name": "stdout",
     "output_type": "stream",
     "text": [
      "one,two,three\r",
      "\r\n",
      "1,2,3\r",
      "\r\n",
      "4,5,6\r",
      "\r\n",
      "7,8,9\r",
      "\r\n"
     ]
    }
   ],
   "source": [
    "#!/usr/bin/python3\n",
    "import csv\n",
    "with open('mydata.csv','w',newline=\"\") as f:\n",
    "    writer=csv.writer(f)\n",
    "    #writer는 readonly라서 수정 불가 그래서 open으로 여는것임\n",
    "    writer.writerow(('one','two','three'))\n",
    "    writer.writerow(('1','2','3'))\n",
    "    writer.writerow(('4','5','6'))\n",
    "    writer.writerow(('7','8','9'))\n",
    "!cat mydata.csv"
   ]
  },
  {
   "cell_type": "code",
   "execution_count": 122,
   "metadata": {},
   "outputs": [
    {
     "ename": "TypeError",
     "evalue": "'_io.TextIOWrapper' object is not callable",
     "output_type": "error",
     "traceback": [
      "\u001b[0;31m---------------------------------------------------------------------------\u001b[0m",
      "\u001b[0;31mTypeError\u001b[0m                                 Traceback (most recent call last)",
      "\u001b[0;32m<ipython-input-122-f72004c063ae>\u001b[0m in \u001b[0;36m<module>\u001b[0;34m()\u001b[0m\n\u001b[1;32m      1\u001b[0m \u001b[0;32mwhile\u001b[0m \u001b[0;36m1\u001b[0m\u001b[0;34m:\u001b[0m\u001b[0;34m\u001b[0m\u001b[0m\n\u001b[1;32m      2\u001b[0m     \u001b[0;32mtry\u001b[0m\u001b[0;34m:\u001b[0m\u001b[0;34m\u001b[0m\u001b[0m\n\u001b[0;32m----> 3\u001b[0;31m         \u001b[0mx\u001b[0m \u001b[0;34m=\u001b[0m \u001b[0mint\u001b[0m\u001b[0;34m(\u001b[0m\u001b[0minput\u001b[0m\u001b[0;34m(\u001b[0m\u001b[0;34m\"Please inter a number: \"\u001b[0m\u001b[0;34m)\u001b[0m\u001b[0;34m)\u001b[0m\u001b[0;34m\u001b[0m\u001b[0m\n\u001b[0m\u001b[1;32m      4\u001b[0m         \u001b[0;32mbreak\u001b[0m\u001b[0;34m\u001b[0m\u001b[0m\n\u001b[1;32m      5\u001b[0m     \u001b[0;32mexcept\u001b[0m \u001b[0mValueError\u001b[0m\u001b[0;34m:\u001b[0m\u001b[0;34m\u001b[0m\u001b[0m\n",
      "\u001b[0;31mTypeError\u001b[0m: '_io.TextIOWrapper' object is not callable"
     ]
    }
   ],
   "source": [
    "while 1:\n",
    "    try:\n",
    "        x = int(input(\"Please inter a number: \"))\n",
    "        break\n",
    "    except ValueError:\n",
    "        print(\"Now a valid number\")"
   ]
  },
  {
   "cell_type": "code",
   "execution_count": 123,
   "metadata": {},
   "outputs": [
    {
     "data": {
      "text/plain": [
       "<sqlite3.Cursor at 0x109c795e0>"
      ]
     },
     "execution_count": 123,
     "metadata": {},
     "output_type": "execute_result"
    }
   ],
   "source": [
    "#SQL 예제\n",
    "import sqlite3\n",
    "person =[(\"Hugo\",\"Boss\"),(\"adi\",\"das\")]\n",
    "\n",
    "con=sqlite3.connect(\":memory:\")\n",
    "\n",
    "con.execute(\"Create table person(firstname,lastname)\")"
   ]
  },
  {
   "cell_type": "code",
   "execution_count": 127,
   "metadata": {},
   "outputs": [
    {
     "data": {
      "text/plain": [
       "'hello'"
      ]
     },
     "execution_count": 127,
     "metadata": {},
     "output_type": "execute_result"
    }
   ],
   "source": [
    "#Class예제 local의 대표적인 예이다.\n",
    "class myclass:\n",
    "    \"A simple example class\"\n",
    "    i=123\n",
    "    def f(slef):\n",
    "        return 'hello'\n",
    "myclass.i\n",
    "myclass.f(1)"
   ]
  },
  {
   "cell_type": "code",
   "execution_count": 130,
   "metadata": {},
   "outputs": [
    {
     "name": "stdout",
     "output_type": "stream",
     "text": [
      "<__main__.myclass object at 0x109b92da0>\n"
     ]
    }
   ],
   "source": [
    "x= myclass() #클래스 전체를 복사\n",
    "x.f()\n",
    "print(x)  "
   ]
  },
  {
   "cell_type": "code",
   "execution_count": 131,
   "metadata": {},
   "outputs": [
    {
     "name": "stdout",
     "output_type": "stream",
     "text": [
      "<class '__main__.myclass'>\n"
     ]
    }
   ],
   "source": [
    "x=myclass #이름만 복사\n",
    "print(x) "
   ]
  },
  {
   "cell_type": "code",
   "execution_count": 146,
   "metadata": {},
   "outputs": [
    {
     "data": {
      "text/plain": [
       "('zxc', 'qwe')"
      ]
     },
     "execution_count": 146,
     "metadata": {},
     "output_type": "execute_result"
    }
   ],
   "source": [
    "#__init__() 예제\n",
    "class myclass:\n",
    "    \"A simple example class\"\n",
    "    i=123\n",
    "    def f(slef):\n",
    "        return 'hello'\n",
    "    def __init__(self,realpart,imagpart):\n",
    "        self.r= realpart\n",
    "        self.i= imagpart\n",
    "        \n",
    "# x= myclass()\n",
    "# 일케 실체화 시키면 init의 함수 떄문에 에러가 난다.\n",
    "# 에러메세지를 보면 init의 두가지 인자가 필요하다고함.\n",
    "# 그래서 첨부터 실체화 할때 인자를 전달해줘야한다.\n",
    "x= myclass(\"qwe\",\"zxc\")\n",
    "x.i,x.r\n",
    "# print(x.i,x.r)"
   ]
  },
  {
   "cell_type": "code",
   "execution_count": 153,
   "metadata": {},
   "outputs": [
    {
     "name": "stdout",
     "output_type": "stream",
     "text": [
      "16\n"
     ]
    },
    {
     "ename": "AttributeError",
     "evalue": "'myclass' object has no attribute '__i'",
     "output_type": "error",
     "traceback": [
      "\u001b[0;31m---------------------------------------------------------------------------\u001b[0m",
      "\u001b[0;31mAttributeError\u001b[0m                            Traceback (most recent call last)",
      "\u001b[0;32m<ipython-input-153-ce6839a5011d>\u001b[0m in \u001b[0;36m<module>\u001b[0;34m()\u001b[0m\n\u001b[1;32m     20\u001b[0m \u001b[0;32mdel\u001b[0m \u001b[0mx\u001b[0m\u001b[0;34m.\u001b[0m\u001b[0mr\u001b[0m\u001b[0;34m\u001b[0m\u001b[0m\n\u001b[1;32m     21\u001b[0m \u001b[0;32mdel\u001b[0m \u001b[0mx\u001b[0m\u001b[0;34m.\u001b[0m\u001b[0mi\u001b[0m\u001b[0;34m\u001b[0m\u001b[0m\n\u001b[0;32m---> 22\u001b[0;31m \u001b[0mprint\u001b[0m\u001b[0;34m(\u001b[0m\u001b[0mx\u001b[0m\u001b[0;34m.\u001b[0m\u001b[0m__i\u001b[0m\u001b[0;34m)\u001b[0m\u001b[0;34m\u001b[0m\u001b[0m\n\u001b[0m",
      "\u001b[0;31mAttributeError\u001b[0m: 'myclass' object has no attribute '__i'"
     ]
    }
   ],
   "source": [
    "#동적 생성 예제\n",
    "class myclass:\n",
    "    \"A simple example class\"\n",
    "#     i=123\n",
    "    __i=123 #이렇게 하면 private이 된다.\n",
    "    def f(slef):\n",
    "        return 'hello'\n",
    "    def __init__(self,realpart,imagpart):\n",
    "        self.r= realpart\n",
    "        self.i= imagpart\n",
    "        \n",
    "x= myclass(\"qwe\",\"zxc\")\n",
    "x.counter=1 \n",
    "#객체에는 counter라는 함수는 없지만 동적으로 외부에서 할당해줄수 있다.\n",
    "while x.counter <10:\n",
    "    x.counter=x.counter*2\n",
    "print(x.counter)\n",
    "del x.counter\n",
    "\n",
    "del x.r\n",
    "del x.i\n",
    "print(x.i)"
   ]
  },
  {
   "cell_type": "code",
   "execution_count": 15,
   "metadata": {},
   "outputs": [
    {
     "data": {
      "text/plain": [
       "['first', 'second', 3, 3, 4, 4, 100]"
      ]
     },
     "execution_count": 15,
     "metadata": {},
     "output_type": "execute_result"
    }
   ],
   "source": [
    "#p.139 bag.py\n",
    "class Bag:\n",
    "    def __init__(self):\n",
    "        self.data=[]\n",
    "    def add(self,x):\n",
    "        self.data.append(x)\n",
    "    def addtwice(self,x):\n",
    "        self.add(x)\n",
    "        self.add(x)\n",
    "    def __add__(self,x):\n",
    "# __add__는 정해져있는 연산자 이름이다.\n",
    "# 그랴서 밖에서 +로 클래스에 대한 연산을 할때에\n",
    "# __add__로 자동 인식되는것\n",
    "# 즉 파이썬 내부에 연산자 기호로 정의가 되어있다.\n",
    "# + => __add__ , - => __sub__\n",
    "# * => __mul__ , / => __div__\n",
    "        self.data.append(x)\n",
    "    def __sub__(self,x):\n",
    "        if x in self.data: self.data.remove(x)\n",
    "    def __repr__(self):\n",
    "        return \"Bye Bye\"\n",
    "    def __mal__(self,x):\n",
    "        self.data.append(x*x)\n",
    "\n",
    "i=Bag()\n",
    "i.add('first')\n",
    "i.add('second')\n",
    "i.addtwice(3)\n",
    "i.addtwice(4)\n",
    "i.__mal__(10)\n",
    "i.data\n"
   ]
  },
  {
   "cell_type": "code",
   "execution_count": 192,
   "metadata": {},
   "outputs": [
    {
     "data": {
      "text/plain": [
       "['first', 'second', 3, 3, 4, 4, 'third']"
      ]
     },
     "execution_count": 192,
     "metadata": {},
     "output_type": "execute_result"
    }
   ],
   "source": [
    "i+\"third\"\n",
    "i.data"
   ]
  },
  {
   "cell_type": "code",
   "execution_count": 185,
   "metadata": {},
   "outputs": [],
   "source": [
    "del i.data[2:]\n"
   ]
  },
  {
   "cell_type": "code",
   "execution_count": 203,
   "metadata": {},
   "outputs": [
    {
     "data": {
      "text/plain": [
       "['first', 'second', 3, 3, 4, 4]"
      ]
     },
     "execution_count": 203,
     "metadata": {},
     "output_type": "execute_result"
    }
   ],
   "source": [
    "i-\"third\"\n",
    "i.data"
   ]
  },
  {
   "cell_type": "code",
   "execution_count": 1,
   "metadata": {},
   "outputs": [
    {
     "name": "stdout",
     "output_type": "stream",
     "text": [
      "qwe\n"
     ]
    },
    {
     "data": {
      "text/plain": [
       "Bye Bye"
      ]
     },
     "execution_count": 1,
     "metadata": {},
     "output_type": "execute_result"
    }
   ],
   "source": [
    "##repr 예제\n",
    "class Bag:\n",
    "    def __init__(self):\n",
    "        self.data=[]\n",
    "    def __repr__(self):\n",
    "        return \"Bye Bye\"\n",
    "    def __str__(self):\n",
    "        return \"qwe\"\n",
    "k=Bag()\n",
    "print(k)\n",
    "k"
   ]
  },
  {
   "cell_type": "code",
   "execution_count": 2,
   "metadata": {},
   "outputs": [
    {
     "name": "stdout",
     "output_type": "stream",
     "text": [
      "123\n"
     ]
    },
    {
     "data": {
      "text/plain": [
       "123"
      ]
     },
     "execution_count": 2,
     "metadata": {},
     "output_type": "execute_result"
    }
   ],
   "source": [
    "#p.142 private variable or method\n",
    "class bag:\n",
    "    __i=123\n",
    "    \n",
    "k=bag()\n",
    "print(k._bag__i)\n",
    "k._bag__i"
   ]
  },
  {
   "cell_type": "code",
   "execution_count": 39,
   "metadata": {},
   "outputs": [
    {
     "name": "stdout",
     "output_type": "stream",
     "text": [
      "money\n"
     ]
    }
   ],
   "source": [
    "#p.143 상속 예제-1\n",
    "class grandfather:\n",
    "    def earnplay():\n",
    "        print(\"tired\")\n",
    "class father(grandfather):\n",
    "    def earnplay(self):\n",
    "        print(\"money\")\n",
    "class uncle(grandfather):\n",
    "    def earnplay():\n",
    "        print(\"give money\")\n",
    "class na(father,uncle):\n",
    "    def earnplay1(self):\n",
    "        print(\"game\")\n",
    "k=father()\n",
    "g=na()\n",
    "g.earnplay() #이게 안되는 이유를 self가 없기 때문이다.\n",
    "# 그래서 self 추가해 주면됨. def na(self)\n",
    "# g.earnplay == na.earnplay(g) 랑 같은 말이다.\n",
    "# na.earnplay\n",
    "# isinstance(k,father)\n",
    "# isinstance(k,grandfather)\n",
    "# isinstance(g,father)"
   ]
  },
  {
   "cell_type": "code",
   "execution_count": 45,
   "metadata": {},
   "outputs": [
    {
     "name": "stdout",
     "output_type": "stream",
     "text": [
      "give money\n"
     ]
    }
   ],
   "source": [
    "#p.143 상속 예제-2\n",
    "class grandfather:\n",
    "    def earnplay():\n",
    "        print(\"tired\")\n",
    "class father(grandfather):\n",
    "    def earnplay2(self):\n",
    "        print(\"money\")\n",
    "class uncle(grandfather):\n",
    "    def earnplay(self):\n",
    "        print(\"give money\")\n",
    "class na(father,uncle):\n",
    "    def earnplay1():\n",
    "        print(\"game\")\n",
    "k=father()\n",
    "g=na()\n",
    "g.earnplay() "
   ]
  },
  {
   "cell_type": "code",
   "execution_count": 44,
   "metadata": {},
   "outputs": [
    {
     "name": "stdout",
     "output_type": "stream",
     "text": [
      "tired\n"
     ]
    }
   ],
   "source": [
    "#p.143 상속 예제-3\n",
    "class grandfather:\n",
    "    def earnplay(self):\n",
    "        print(\"tired\")\n",
    "class father(grandfather):\n",
    "    def earnplay2(self):\n",
    "        print(\"money\")\n",
    "class uncle(grandfather):\n",
    "    def earnplay3(self):\n",
    "        print(\"give money\")\n",
    "class na(father,uncle):\n",
    "    def earnplay1(): #Na는 self가 없어도 자식들은 self필요\n",
    "        print(\"game\")\n",
    "k=father()\n",
    "g=na()\n",
    "g.earnplay() "
   ]
  },
  {
   "cell_type": "code",
   "execution_count": 69,
   "metadata": {},
   "outputs": [
    {
     "name": "stdout",
     "output_type": "stream",
     "text": [
      "money\n",
      "creat\n",
      "money\n"
     ]
    }
   ],
   "source": [
    "#p.143 상속 예제-3\n",
    "class grandfather:\n",
    "    def earnplay(self):\n",
    "        print(\"tired\")\n",
    "class father(grandfather):\n",
    "    def __init__(self):\n",
    "        print(\"creat father\")\n",
    "    def earnplay(self):\n",
    "        print(\"money\")\n",
    "class uncle(grandfather):\n",
    "    def earnplay(self):\n",
    "        print(\"give money\")\n",
    "class na(father,uncle):\n",
    "    def __init__(self):\n",
    "        father.earnplay(self)\n",
    "        print(\"creat\")\n",
    "    def earnplay(): #Na는 self가 없어도 자식들은 self필요\n",
    "        print(\"game\")\n",
    "g=na()\n",
    "father.earnplay(\"아무거나\")\n",
    "#self 위치에 개체 이름을 넘겨줘야함"
   ]
  },
  {
   "cell_type": "code",
   "execution_count": 74,
   "metadata": {},
   "outputs": [
    {
     "data": {
      "text/plain": [
       "'OK'"
      ]
     },
     "execution_count": 74,
     "metadata": {},
     "output_type": "execute_result"
    }
   ],
   "source": [
    "import easygui as eg\n",
    "eg.msgbox(\"heyhey!!\")"
   ]
  },
  {
   "cell_type": "code",
   "execution_count": null,
   "metadata": {},
   "outputs": [],
   "source": [
    "#msg 박스로 생일 입력 받아서 몇일 살았는지 출력\n",
    "# N일 후의 년월일 구하기\n",
    "from datetime import datetime,timedelta\n",
    "import easygui as eg\n",
    "\n",
    "def howday():\n",
    "    now=datetime.now()\n",
    "#     drt= int(input(\"몇일 뒤가 궁금?\"))\n",
    "    user_year=eg.integerbox(\"Year? \".upperbound =300)\n",
    "    user_month=eg.integerbox(\"Month? \".upperbound =300)\n",
    "    user_day=eg.integerbox(\"Birth? \".upperbound =300)\n",
    "    dt= timedelta(days=drt)\n",
    "    esult=now +dt\n",
    "    result=esult.strftime(\"{0}일 후는 %Y년 %m월 %d일 입니다.\".format(drt))\n",
    "    print(result)\n",
    "    print(esult)\n",
    "    \n",
    "howday()\n",
    "    "
   ]
  },
  {
   "cell_type": "code",
   "execution_count": null,
   "metadata": {},
   "outputs": [],
   "source": [
    "#버튼 생성\n",
    "buttons=[\"B1\",\"B2\",\"B3\"]\n",
    "variable=eg.buttonbox(\"This is an example of button\",choices=buttons)"
   ]
  },
  {
   "cell_type": "code",
   "execution_count": 77,
   "metadata": {},
   "outputs": [],
   "source": [
    "#이미지 뷰어\n",
    "buttons=[\"B1\",\"B2\",\"B3\"]\n",
    "variable=eg.buttonbox(\"This is an example of button\",choices=buttons,image=[\"sample_img.gif\",\"sam2.gif\"])"
   ]
  },
  {
   "cell_type": "code",
   "execution_count": 91,
   "metadata": {},
   "outputs": [
    {
     "name": "stdout",
     "output_type": "stream",
     "text": [
      "[0]\n"
     ]
    }
   ],
   "source": [
    "#easygui 예제 p.168\n",
    "import easygui as e\n",
    "import sys\n",
    "e.ynbox(\"shall I continue ? \", \"TItle\",(\"Yes\",\"No\"))\n",
    "e.msgbox(\"This is a basic message box.\", \"Title Goes Here\")\n",
    "\n",
    "e.buttonbox(\"Click on your favorite flavor.\",\"Favorite flavor?\",image=\"sample_img.gif\",choices=(\"Choco\",\"Vanilla\",\"Strawberry\"))\n",
    "msg=\"Do you want to continue?\"\n",
    "title = \"Please Confirm\"\n",
    "if e.ccbox(msg,title):\n",
    "    pass\n",
    "else:\n",
    "    sys.exit(0)\n",
    "choices=[\"Vanilla\",\"Chocolate\",\"Strawberry\",\"Rocky Road\"]\n",
    "choice=e.choicebox(\"What is your favorite Flavor?\",\"Ice Cream Survay\",choices)"
   ]
  }
 ],
 "metadata": {
  "kernelspec": {
   "display_name": "Python 3",
   "language": "python",
   "name": "python3"
  },
  "language_info": {
   "codemirror_mode": {
    "name": "ipython",
    "version": 3
   },
   "file_extension": ".py",
   "mimetype": "text/x-python",
   "name": "python",
   "nbconvert_exporter": "python",
   "pygments_lexer": "ipython3",
   "version": "3.6.5"
  }
 },
 "nbformat": 4,
 "nbformat_minor": 2
}
