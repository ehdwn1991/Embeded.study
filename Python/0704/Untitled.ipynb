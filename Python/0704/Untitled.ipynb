{
 "cells": [
  {
   "cell_type": "code",
   "execution_count": null,
   "metadata": {},
   "outputs": [],
   "source": [
    "from pylab import plot, show\n",
    "y=[1.0,2.4,1.7,0.3,0.6, 1.8]\n",
    "plot(y)\n",
    "show()"
   ]
  },
  {
   "cell_type": "code",
   "execution_count": null,
   "metadata": {},
   "outputs": [],
   "source": [
    "from pylab import plot, show\n",
    "from numpy import linspace, sin,tan\n",
    "x= linspace(0,10,100)\n",
    "y=sin(x)\n",
    "z=tan(x)\n",
    "w=z*z\n",
    "plot(x,y)\n",
    "plot(x)\n",
    "plot(y)\n",
    "plot(z)\n",
    "# plot(w)"
   ]
  },
  {
   "cell_type": "code",
   "execution_count": null,
   "metadata": {},
   "outputs": [],
   "source": [
    "?linspace"
   ]
  },
  {
   "cell_type": "code",
   "execution_count": null,
   "metadata": {},
   "outputs": [],
   "source": [
    "from pylab import plot, show\n",
    "from numpy import linspace, sin,tan, loadtxt\n",
    "data = loadtxt(\"my_data.txt\",float)\n",
    "#my_data.txt\n",
    "# 0 0 6 \n",
    "# 1 1 5 \n",
    "# 2 4 4 \n",
    "# 4 16 3 \n",
    "# 5 25 2 \n",
    "# 6 36 1 \n",
    "x = data[:,0]\n",
    "y=data[:,1]\n",
    "plot(x,y)"
   ]
  },
  {
   "cell_type": "code",
   "execution_count": null,
   "metadata": {},
   "outputs": [],
   "source": [
    "from pylab import plot, show\n",
    "from numpy import linspace\n",
    "from math import sin\n",
    "xpoints=[]\n",
    "ypoints=[]\n",
    "for x in linspace(0,10,1000):\n",
    "    xpoints.append(x)\n",
    "    ypoints.append(sin(x))\n",
    "    \n",
    "plot(xpoints,ypoints)"
   ]
  },
  {
   "cell_type": "code",
   "execution_count": null,
   "metadata": {},
   "outputs": [],
   "source": [
    "from pylab import plot, show,ylim,xlim,xlabel,ylabel\n",
    "from numpy import linspace,sin\n",
    "# from math import sin\n",
    "x= linspace(0,10,100)\n",
    "y=sin(x)\n",
    "plot(x,y)\n",
    "ylim(-1.1,1.1)\n",
    "xlabel(\"x axis\")\n",
    "ylabel(\"y = sin x\")\n",
    "plot(x,y)"
   ]
  },
  {
   "cell_type": "code",
   "execution_count": null,
   "metadata": {},
   "outputs": [],
   "source": [
    "from pylab import plot, show,ylim,xlim,xlabel,ylabel\n",
    "from numpy import linspace,sin ,cos\n",
    "# from math import sin\n",
    "x= linspace(0,10,100)\n",
    "y1=sin(x)\n",
    "y2=cos(x)\n",
    "plot(x,y1,\"g-\")\n",
    "plot(x,y2,\"c--\")\n",
    "ylim(-1.1,1.1)\n",
    "# xlim(-10.1,0.1)\n",
    "xlabel(\"x axis\")\n",
    "ylabel(\"y = sin x\")\n",
    "plot(x,y)\n"
   ]
  },
  {
   "cell_type": "code",
   "execution_count": null,
   "metadata": {},
   "outputs": [],
   "source": [
    "from __future__ import division\n",
    "from pylab import plot, show,ylim,xlim,xlabel,ylabel,grid\n",
    "# from numpy import linspace,sin ,cos,ones,convolve\n",
    "import numpy\n",
    "data = loadtxt(\"sunspots.txt\",float)\n",
    "\n",
    "#내코드\n",
    "type(data)\n",
    "data[:]\n",
    "def avg(arr,size):\n",
    "    for a in arr:\n",
    "        a=(sum(arr)-a)/float(size)\n",
    "    return a\n",
    "# print(avg(data,10))\n",
    "x=data[:,0]\n",
    "y=data[:,1]\n",
    "y_avg=avg(y,10)\n",
    "xlim(0,1000)\n",
    "plot(x,y)\n",
    "# plot(avg(data))\n",
    "\n",
    "#책 코드\n",
    "def movingaverage(interval, window_size):\n",
    "    window = numpy.ones(int(window_size))/float(window_size)\n",
    "    return numpy.convolve(interval,window,'same')\n",
    "x=data[:,0]; y=data[:,1]\n",
    "plot(x,y,\"k.\")\n",
    "y_avg= movingaverage(y,10)\n",
    "plot(x,y_avg,\"r\")\n",
    "xlim(0,1000)\n",
    "xlabel(\"Months since Jan 1749.\")\n",
    "ylabel(\"No. of sun spots\")\n",
    "grid(True)\n"
   ]
  },
  {
   "cell_type": "code",
   "execution_count": null,
   "metadata": {},
   "outputs": [],
   "source": [
    "from pylab import scatter , xlabel ,ylabel,xlim,ylim,show,imshow\n",
    "from numpy import loadtxt\n",
    "\n",
    "data= loadtxt(\"stars.txt\",float)\n",
    "x=data[:,0]\n",
    "y=data[:,1]\n",
    "scatter(x,y)\n",
    "xlabel(\"Temperature\")\n",
    "ylabel(\"Magnitude\")\n",
    "xlim(0,13000)\n",
    "ylim(-5,20)\n",
    "imshow(\"sam.JPEG\",origin=\"lower\",aspect=2.0)\n",
    "# show()"
   ]
  },
  {
   "cell_type": "code",
   "execution_count": null,
   "metadata": {},
   "outputs": [],
   "source": [
    "import matplotlib.pyplot as plt\n",
    "x=  range(100)\n",
    "y= [value **2 for value in x]\n",
    "plt.plot(x,y)\n",
    "plt.show()"
   ]
  },
  {
   "cell_type": "code",
   "execution_count": null,
   "metadata": {},
   "outputs": [],
   "source": [
    "import math\n",
    "import matplotlib.pyplot as plt\n",
    "t=range(100)\n",
    "x=[(2*math.pi *k)/len(t) for k in t]\n",
    "y=[math.sin(value) for value in x]\n",
    "plt.plot(x,y)\n",
    "plt.show()"
   ]
  },
  {
   "cell_type": "code",
   "execution_count": null,
   "metadata": {},
   "outputs": [],
   "source": [
    "import numpy as np\n",
    "import matplotlib.pyplot as plt\n",
    "T=range(100)\n",
    "X= np.linspace(0,2* np.pi,100)\n",
    "Y=np.sin(X)\n",
    "plt.plot(X,Y)\n",
    "plt.show()"
   ]
  },
  {
   "cell_type": "code",
   "execution_count": null,
   "metadata": {},
   "outputs": [],
   "source": [
    "import numpy as np\n",
    "import matplotlib.pyplot as plt\n",
    "\n",
    "def plot_slope(X,Y):\n",
    "    Xs=X[1:]-Y[:-1]\n",
    "    Ys=Y[1:]-Y[:-1]\n",
    "    plt.plot(X[1:],Ys/Xs)\n",
    "    \n",
    "X=np.linspace(-3,3,100)\n",
    "Y=np.exp(-X**2)\n",
    "plt.plot(X,Y)\n",
    "plot_slope(X,Y)\n",
    "# plt.show()\n",
    "    "
   ]
  },
  {
   "cell_type": "code",
   "execution_count": null,
   "metadata": {},
   "outputs": [],
   "source": [
    "# p.250 Transpose matrix\n",
    "import numpy as np\n",
    "import matplotlib.pyplot as plt\n",
    "data=np.loadtxt(\"my_data.txt\")\n",
    "\n",
    "for col in data.T:\n",
    "    plt.plot(data[:,0],col)\n",
    "    \n",
    "plt.show()"
   ]
  },
  {
   "cell_type": "code",
   "execution_count": null,
   "metadata": {},
   "outputs": [],
   "source": [
    "# p.251\n",
    "import matplotlib.pyplot as plt\n",
    "X,Y =[],[]\n",
    "for line in open(\"my_data.txt\",\"r\"):\n",
    "    values=[float(s) for s in line.split()]\n",
    "    X.append(values[0])\n",
    "    Y.append(values[1])\n",
    "    \n",
    "plt.plot(X,Y)"
   ]
  },
  {
   "cell_type": "code",
   "execution_count": null,
   "metadata": {},
   "outputs": [],
   "source": [
    "import matplotlib.pyplot as plt\n",
    "with open(\"my_data.txt\",\"r\") as f:\n",
    "    X,Y = zip(*[[float(s) for s in line.split()] for line in f])\n",
    "    \n",
    "plt.plot(data[:,0],data[:,1])"
   ]
  },
  {
   "cell_type": "code",
   "execution_count": null,
   "metadata": {},
   "outputs": [],
   "source": [
    "import numpy as np\n",
    "import matplotlib.pyplot as plt\n",
    "data=np.loadtxt(\"my_data.txt\")\n",
    "plt.plot(data[:,0],data[:,1])"
   ]
  },
  {
   "cell_type": "code",
   "execution_count": null,
   "metadata": {},
   "outputs": [],
   "source": [
    "import numpy as np\n",
    "import matplotlib.pyplot as plt\n",
    "import matplotlib as mpl\n",
    "%matplotlib inline\n",
    "for i in range(8):\n",
    "    x=np.arange(1000)\n",
    "    y=np.random.randn(1000).cumsum()\n",
    "    plt.plot(x,y,label=str(i))\n",
    "plt.legend()\n",
    "    \n",
    "import prettyplotlib as ppl\n",
    "np.random.seed(12)\n",
    "for i in range(8):\n",
    "    x=np.arange(1000)\n",
    "    y=np.random.randn(1000).cumsum()\n",
    "    ppl.plot(x,y,label=str(i))\n",
    "ppl.legend()"
   ]
  },
  {
   "cell_type": "code",
   "execution_count": null,
   "metadata": {},
   "outputs": [],
   "source": [
    "import numpy as np\n",
    "import matplotlib.pyplot as plt\n",
    "import seaborn as sns\n",
    "import pandas as pd\n",
    "%matplotlib inline\n",
    "np.random.seed(12)\n",
    "plt.pcolormesh(np.random.rand(16,16))\n",
    "plt.colorbar()\n",
    "\n",
    "np.random.seed(12)\n",
    "plt.pcolormesh(np.random.rand(16,16))\n",
    "\n",
    "x1 = np.random.randn(80)\n",
    "x2 = np.random.randn(80)\n",
    "x3 = x1*x2\n",
    "y1=.5+2*x1-x2  +2.5*x3+3*np.random.randn(80)\n",
    "y2=.5+2*x1-x2  +2.5*np.random.randn(80)\n",
    "y3=y2+np.random.randn(80)\n",
    "sns.violinplot([x1,x2,x3]);plt.show()\n",
    "sns.regplot(x2,y2);plt.show()\n",
    "df = pd.DataFrame(dict(x1=x1,x2=x2,x3=x3,y1=y1,y2=y2,y3=y3))\n",
    "sns.pairplot(df)"
   ]
  },
  {
   "cell_type": "code",
   "execution_count": null,
   "metadata": {},
   "outputs": [],
   "source": [
    "sns.violinplot([x1,x2,x3]);plt.show()"
   ]
  },
  {
   "cell_type": "code",
   "execution_count": null,
   "metadata": {},
   "outputs": [],
   "source": [
    "sns.regplot(x2,y2);plt.show()"
   ]
  },
  {
   "cell_type": "code",
   "execution_count": null,
   "metadata": {},
   "outputs": [],
   "source": [
    "sns.pairplot(df)"
   ]
  },
  {
   "cell_type": "code",
   "execution_count": null,
   "metadata": {},
   "outputs": [],
   "source": [
    "import numpy as np\n",
    "import bokeh.plotting as bkh\n",
    "from bokeh.plotting import figure, output_file, show\n",
    "\n",
    "bkh.output_notebook()\n",
    "x=np.linspace(0.,1.,100)\n",
    "y=np.cumsum(np.random.randn(100))\n",
    "p=figure(title=\"example\",x_axis_label='x',y_axis_label='y')\n",
    "p.line(x,y,line_width=5)\n",
    "show(p)"
   ]
  },
  {
   "cell_type": "code",
   "execution_count": null,
   "metadata": {},
   "outputs": [],
   "source": [
    "from bokeh.sampledata.iris import flowers\n",
    "colormap={'setosa':\"red\",\n",
    "         \"versicolor\":\"green\",\n",
    "         \"virginica\":\"blue\"}\n",
    "flowers['color']=flowers['species'].map(lambda x: colormap[x])\n",
    "k=figure(title = \"iris example\")\n",
    "k.scatter(flowers[\"petal_length\"],\n",
    "         flowers[\"petal_width\"],\n",
    "         color=flowers[\"color\"],\n",
    "         fill_alpha=0.25, size=10,)\n",
    "show(k)"
   ]
  },
  {
   "cell_type": "code",
   "execution_count": null,
   "metadata": {},
   "outputs": [],
   "source": [
    "#html 가능\n",
    "%%html\n",
    "<style>\n",
    ".hello{\n",
    "    border : 1px solid balck;\n",
    "    width: 300px;\n",
    "    height: 50px;\n",
    "    font-size: 2em;\n",
    "    padding: 0.3em;\n",
    "    color: cyan;\n",
    "}\n",
    "\n",
    "</style>\n",
    "\n",
    "<div class= 'hello'>\n",
    "Hello, hailo\n",
    "</div>"
   ]
  },
  {
   "cell_type": "code",
   "execution_count": null,
   "metadata": {},
   "outputs": [],
   "source": [
    "%%javascript\n",
    "$(element).append('<div class =\"hello\"> I don\\'t need coke</div>')"
   ]
  },
  {
   "cell_type": "code",
   "execution_count": null,
   "metadata": {},
   "outputs": [],
   "source": [
    "%%javascript\n",
    "window.get_element = function(el){\n",
    "    if(el){$(el).html('')}\n",
    "    return (el != undefined) ? el[0] : $('script').last().parent()[0];};\n",
    "element = undefined;"
   ]
  },
  {
   "cell_type": "code",
   "execution_count": null,
   "metadata": {},
   "outputs": [],
   "source": [
    "%%javascript\n",
    "\n",
    "var target = get_element(element)\n",
    "$(target).append('<div class= \"hello\"> hi</div>')"
   ]
  },
  {
   "cell_type": "code",
   "execution_count": null,
   "metadata": {},
   "outputs": [],
   "source": [
    "#network example\n",
    "import networkx as nx\n",
    "import matplotlib.pyplot as plt\n",
    " \n",
    "def draw_graph(graph):\n",
    " \n",
    "    # graph 객체에서 노드들을 뽑아 nodes 에 저장한다\n",
    "    nodes = set([n1 for n1, n2 in graph] + [n2 for n1, n2 in graph])\n",
    "    \n",
    "    # 그래프 객체를 하나 만든다\n",
    "    G=nx.Graph()\n",
    " \n",
    "    # add_node() 를 통해 그래프에 노드를 입력한다\n",
    "    for node in nodes:\n",
    "        G.add_node(node)\n",
    " \n",
    "    # add_edges() 를 통해 노드간의 엣지를 지정해 준다\n",
    "    for edge in graph:\n",
    "        G.add_edge(edge[0], edge[1])\n",
    " \n",
    "    pos = nx.shell_layout(G)\n",
    "    # 그리려는 그래프의 속성을 설정해 준다\n",
    "    nx.draw_networkx_nodes(G,pos,node_size=5)\n",
    "    nx.draw_networkx_edges(G,pos,width=1)\n",
    "    nx.draw_networkx_labels(G,pos,font_size=10,font_family='sans-serif')\n",
    " \n",
    "    # 그래프 그림을 파일로 저장한다\n",
    "    plt.axis('off')\n",
    "    plt.savefig(\"graph.png\", dpi=1000) # 그림 파일 크기 지정\n",
    "    plt.savefig(\"weighted_graph.png\") # png 파일로 저장\n",
    " \n",
    "    # 그래프 레이아웃을 저장한다\n",
    "    pos = nx.shell_layout(G)\n",
    "    nx.draw(G, pos)\n",
    " \n",
    "    # matplotlib 모듈을 이용해 그래프를 시각화 한다.\n",
    "    plt.show()\n",
    " \n",
    "# 그리고자 하는 그래프 예제\n",
    "graph = [(20, 21),(21, 22),(22, 23), (23, 24),(24, 25), (25, 20)]\n",
    "draw_graph(graph)\n",
    "\n"
   ]
  },
  {
   "cell_type": "code",
   "execution_count": null,
   "metadata": {},
   "outputs": [],
   "source": [
    "#노드이동은 불가\n",
    "import networkx as nx\n",
    "import matplotlib.pyplot as plt\n",
    "\n",
    "def draw_graph(graph, labels=None, graph_layout='shell',\n",
    "               node_size=1600, node_color='blue', node_alpha=0.3,\n",
    "               node_text_size=12,\n",
    "               edge_color='blue', edge_alpha=0.3, edge_tickness=1,\n",
    "               edge_text_pos=0.3,\n",
    "               text_font='sans-serif'):\n",
    "\n",
    "    # create networkx graph\n",
    "    G=nx.Graph()\n",
    "\n",
    "    # add edges\n",
    "    for edge in graph:\n",
    "        G.add_edge(edge[0], edge[1])\n",
    "\n",
    "    # these are different layouts for the network you may try\n",
    "    # shell seems to work best\n",
    "    if graph_layout == 'spring':\n",
    "        graph_pos=nx.spring_layout(G)\n",
    "    elif graph_layout == 'spectral':\n",
    "        graph_pos=nx.spectral_layout(G)\n",
    "    elif graph_layout == 'random':\n",
    "        graph_pos=nx.random_layout(G)\n",
    "    else:\n",
    "        graph_pos=nx.shell_layout(G)\n",
    "\n",
    "    # draw graph\n",
    "    nx.draw_networkx_nodes(G,graph_pos,node_size=node_size, \n",
    "                           alpha=node_alpha, node_color=node_color)\n",
    "    nx.draw_networkx_edges(G,graph_pos,width=edge_tickness,\n",
    "                           alpha=edge_alpha,edge_color=edge_color)\n",
    "    nx.draw_networkx_labels(G, graph_pos,font_size=node_text_size,\n",
    "                            font_family=text_font)\n",
    "\n",
    "    if labels is None:\n",
    "        labels = range(len(graph))\n",
    "\n",
    "    edge_labels = dict(zip(graph, labels))\n",
    "    nx.draw_networkx_edge_labels(G, graph_pos, edge_labels=edge_labels, \n",
    "                                 label_pos=edge_text_pos)\n",
    "\n",
    "    # show graph\n",
    "    plt.show()\n",
    "\n",
    "graph = [(0, 1), (1, 5), (1, 7), (4, 5), (4, 8), (1, 6), (3, 7), (5, 9),\n",
    "         (2, 4), (0, 4), (2, 5), (3, 6), (8, 9)]\n",
    "\n",
    "# you may name your edge labels\n",
    "labels = map(chr, range(65, 65+len(graph)))\n",
    "#draw_graph(graph, labels)\n",
    "\n",
    "# if edge labels is not specified, numeric labels (0, 1, 2...) will be used\n",
    "draw_graph(graph)"
   ]
  },
  {
   "cell_type": "code",
   "execution_count": null,
   "metadata": {},
   "outputs": [],
   "source": [
    "#C:> easy_install Sphinx EnvisageCore EnvisagePlugins configobj\n",
    "#C:> easy_install Mayavi[app]\n",
    "#pip install wxPython Mayavi\n",
    "# pip3 install pyqt5 를 설치해줘야 선이 나온다.\n",
    "import networkx as nx\n",
    "import matplotlib.pyplot as plt\n",
    "import numpy as np\n",
    "from mayavi import mlab\n",
    "\n",
    "import random\n",
    "\n",
    "def draw_graph3d(graph, graph_colormap='winter', bgcolor = (1, 1, 1),\n",
    "                 node_size=0.03,\n",
    "                 edge_color=(0.8, 0.8, 0.8), edge_size=0.002,\n",
    "                 text_size=0.008, text_color=(0, 0, 0)):\n",
    "\n",
    "    H=nx.Graph()\n",
    "\n",
    "    # add edges\n",
    "    for node, edges in graph.items():\n",
    "        for edge, val in edges.items():\n",
    "            if val == 1:\n",
    "                H.add_edge(node, edge)\n",
    "\n",
    "    G=nx.convert_node_labels_to_integers(H)\n",
    "\n",
    "    graph_pos=nx.spring_layout(G, dim=3)\n",
    "\n",
    "    # numpy array of x,y,z positions in sorted node order\n",
    "    xyz=np.array([graph_pos[v] for v in sorted(G)])\n",
    "\n",
    "    # scalar colors\n",
    "    scalars=np.array(G.nodes())+5\n",
    "    mlab.figure(1, bgcolor=bgcolor)\n",
    "    mlab.clf()\n",
    "\n",
    "    pts = mlab.points3d(xyz[:,0], xyz[:,1], xyz[:,2],\n",
    "                        scalars,\n",
    "                        scale_factor=node_size,\n",
    "                        scale_mode='none',\n",
    "                        colormap=graph_colormap,\n",
    "                        resolution=20)\n",
    "\n",
    "    for i, (x, y, z) in enumerate(xyz):\n",
    "        label = mlab.text(x, y, str(i), z=z,\n",
    "                          width=text_size, name=str(i), color=text_color)\n",
    "        label.property.shadow = True\n",
    "\n",
    "    pts.mlab_source.dataset.lines = np.array(G.edges())\n",
    "    tube = mlab.pipeline.tube(pts, tube_radius=edge_size)\n",
    "    mlab.pipeline.surface(tube, color=edge_color)\n",
    "\n",
    "    mlab.show() # interactive window\n",
    "\n",
    "# create tangled hypercube\n",
    "def make_graph(nodes):\n",
    "\n",
    "    def make_link(graph, i1, i2):\n",
    "        graph[i1][i2] = 1\n",
    "        graph[i2][i1] = 1\n",
    "\n",
    "    n = len(nodes)\n",
    "    \n",
    "    if n == 1: return {nodes[0]:{}}\n",
    "\n",
    "    nodes1 = list(nodes[0:n//2])\n",
    "    nodes2 = list(nodes[n//2:])\n",
    "    G1 = make_graph(nodes1)\n",
    "    G2 = make_graph(nodes2)\n",
    "\n",
    "    # merge G1 and G2 into a single graph\n",
    "    #G = dict(G1.items() + G2.items())\n",
    "    G = G1.copy()\n",
    "    G.update(G2)\n",
    "    # link G1 and G2\n",
    "    random.shuffle(nodes1)\n",
    "    random.shuffle(nodes2)\n",
    "    for i in range(len(nodes1)):\n",
    "        make_link(G, nodes1[i], nodes2[i])\n",
    "\n",
    "    return G\n",
    "\n",
    "# graph example\n",
    "nodes = range(16)\n",
    "graph = make_graph(nodes)\n",
    "draw_graph3d(graph)"
   ]
  },
  {
   "cell_type": "code",
   "execution_count": null,
   "metadata": {},
   "outputs": [],
   "source": [
    "#p.256\n",
    "import numpy as np\n",
    "import matplotlib.pyplot as plt\n",
    "%matplotlib inline\n",
    "from mpld3 import enable_notebook\n",
    "\n",
    "enable_notebook()\n",
    "X=np.random.normal(0,1,(100,3))\n",
    "color = np.random.random(100)\n",
    "size = 500* np.random.random(100)\n",
    "plt.scatter(X[:,0],X[:,1],c=color, s=size,alpha=0.5, linewidths=2)\n",
    "plt.grid(color='lightgray', alpha=0.7)"
   ]
  },
  {
   "cell_type": "code",
   "execution_count": null,
   "metadata": {},
   "outputs": [],
   "source": [
    "fig, ax=plt.subplots(3,3 ,figsize=(6,6), sharex=True, sharey=True)\n",
    "fig.subplots_adjust(hspace=0.3)\n",
    "X[::2,2]+=3\n",
    "for i in range(3):\n",
    "    for j in range(3):\n",
    "        ax[i,j].scatter(X[:,i],X[:,j],c=color,s=.1*size,alpha=0.5,linewidth=2)\n",
    "        ax[i,j].grid(color='lightgray',alpha=0.7)"
   ]
  },
  {
   "cell_type": "code",
   "execution_count": null,
   "metadata": {},
   "outputs": [],
   "source": [
    "from os import path\n",
    "import matplotlib.pyplot as plt\n",
    "from wordcloud import WordCloud\n",
    "\n",
    "text = open('constitu.txt').read()\n",
    "wordcloud = WordCloud().generate(text)\n",
    "plt.imshow(wordcloud)\n",
    "plt.axis(\"off\")\n",
    "plt.show()"
   ]
  },
  {
   "cell_type": "code",
   "execution_count": null,
   "metadata": {},
   "outputs": [],
   "source": [
    "from wordcloud import WordCloud, STOPWORDS\n",
    "\n",
    "import numpy as np\n",
    "from PIL import Image\n",
    "text= open(\"alice.txt\").read()\n",
    "\n",
    "# alice_mask = np.array(Image.open(\"alice_mask.png\"))\n",
    "alice_mask = np.array(Image.open(\"sam-1.png\"))\n",
    "\n",
    "stopwords = set(STOPWORDS)\n",
    "stopwords.add(\"said\")\n",
    "# stopwords.add(\"time\")\n",
    "stopwords.add(\"ago\")\n",
    "stopwords.add(\"long\")\n",
    "\n",
    "import matplotlib.pyplot as plt\n",
    "import platform\n",
    "\n",
    "from matplotlib import font_manager,rc\n",
    "if platform.system() == 'Darwin':\n",
    "    rc(\"font\",family = 'AppleGothic')\n",
    "    \n",
    "else:\n",
    "    print(\"Unknown\")\n",
    "    \n",
    "plt.figure(figsize=(8,8))\n",
    "plt.imshow(alice_mask, cmap= plt.cm.gray, interpolation = 'bilinear')\n",
    "plt.axis(\"off\")\n",
    "plt.show()\n",
    "\n",
    "\n",
    "wc = WordCloud(background_color='black',max_words=50000,mask= alice_mask,\n",
    "              stopwords = stopwords)\n",
    "\n",
    "wc = wc.generate(text)\n",
    "wc.words_\n",
    "\n",
    "plt.figure(figsize=(12,12))\n",
    "plt.imshow(wc,interpolation=\"bilinear\")\n",
    "plt.axis(\"off\")\n",
    "plt.show()"
   ]
  },
  {
   "cell_type": "code",
   "execution_count": null,
   "metadata": {},
   "outputs": [],
   "source": [
    "from collections import Counter\n",
    "import urllib\n",
    "import random\n",
    "import webbrowser\n",
    "\n",
    "from konlpy.tag import Kkma\n",
    "from lxml import html\n",
    "import pytagcloud\n",
    "import sys\n",
    "\n",
    "if sys.version_info[0]>=3:\n",
    "    urlopen = urllib.request.urlopen\n",
    "else:\n",
    "    urlopen = urllib.urlopen\n",
    "    \n",
    "r= lambda: random.randint(0,255)\n",
    "color = lambda: (r(),r(),r())\n",
    "\n",
    "def get_bill_text(billnum):\n",
    "    url= 'http://pokr.kr/bill/%s/text'%billnum\n",
    "    response = urlopen(url).read().decode('utf-8')\n",
    "    page = html.fromstring(response)\n",
    "    text=page.xpath(\".//div[@id= 'bill-sections']/pre/text()\")[0]\n",
    "    return text\n",
    "\n",
    "def get_tags(text,ntags=50,multiplier =10):\n",
    "    h=Kkma()\n",
    "    nouns=h.nouns(text)\n",
    "    count = Counter(nouns)\n",
    "    return [{'color':color(), 'tag':n , 'size':c*multiplier*2} for n,c in count.most_common(ntags)]\n",
    "\n",
    "def draw_cloud(tags, filename, fontname = 'H2GTRM',size = (800,600)):\n",
    "    pytagcloud.creat_tag_image(tags,filename, fontname = fontname,size =size)\n",
    "    webbrowser.open(filename)"
   ]
  },
  {
   "cell_type": "code",
   "execution_count": null,
   "metadata": {},
   "outputs": [],
   "source": [
    "import __future__\n",
    "dir(__future__)"
   ]
  },
  {
   "cell_type": "code",
   "execution_count": null,
   "metadata": {},
   "outputs": [],
   "source": [
    "import pandas as pd\n",
    "from konlpy.utils import pprint\n",
    "korean_review_df = pd.read_csv(\"ratings_test.txt\",header=0,delimiter = \"\\t\",\n",
    "                              quoting =3, encoding = \"utf-8\")\n",
    "len(korean_review_df)\n",
    "korean_review_df[:100]"
   ]
  },
  {
   "cell_type": "code",
   "execution_count": null,
   "metadata": {},
   "outputs": [],
   "source": [
    "from konlpy.utils import pprint\n",
    "from konlpy.tag import Twitter\n",
    "twi_tagger = Twitter()\n",
    "temp_sen = u\"마늘치킨이 먹고싶닼ㅋㅋ 치킨 사랑해!\"\n",
    "pprint(twi_tagger.pos(temp_sen,norm=True,stem=True))\n",
    "\n",
    "words_temp=twi_tagger.pos(korean_review_df[\"document\"][3], norm=True,stem=True)"
   ]
  },
  {
   "cell_type": "code",
   "execution_count": 3,
   "metadata": {},
   "outputs": [
    {
     "name": "stdout",
     "output_type": "stream",
     "text": [
      "[('마늘', 'Noun'),\n",
      " ('치킨', 'Noun'),\n",
      " ('이', 'Josa'),\n",
      " ('먹다', 'Verb'),\n",
      " ('ㅋㅋ', 'KoreanParticle'),\n",
      " ('치킨', 'Noun'),\n",
      " ('사랑', 'Noun'),\n",
      " ('하다', 'Verb'),\n",
      " ('!', 'Punctuation')]\n",
      "[('지루하다', 'Adjective'),\n",
      " ('않다', 'Verb'),\n",
      " ('완전', 'Noun'),\n",
      " ('막장', 'Noun'),\n",
      " ('임', 'Noun'),\n",
      " ('...', 'Punctuation'),\n",
      " ('돈', 'Noun'),\n",
      " ('주다', 'Verb'),\n",
      " ('보기', 'Noun'),\n",
      " ('에는', 'Josa'),\n",
      " ('....', 'Punctuation')]\n"
     ]
    },
    {
     "name": "stderr",
     "output_type": "stream",
     "text": [
      "/usr/local/lib/python3.6/site-packages/bs4/__init__.py:181: UserWarning: No parser was explicitly specified, so I'm using the best available HTML parser for this system (\"lxml\"). This usually isn't a problem, but if you run this code on another system, or in a different virtual environment, it may use a different parser and behave differently.\n",
      "\n",
      "The code that caused this warning is on line 193 of the file /usr/local/Cellar/python/3.6.5_1/Frameworks/Python.framework/Versions/3.6/lib/python3.6/runpy.py. To get rid of this warning, change code that looks like this:\n",
      "\n",
      " BeautifulSoup(YOUR_MARKUP})\n",
      "\n",
      "to this:\n",
      "\n",
      " BeautifulSoup(YOUR_MARKUP, \"lxml\")\n",
      "\n",
      "  markup_type=markup_type))\n",
      "/usr/local/lib/python3.6/site-packages/bs4/__init__.py:219: UserWarning: \"b'.'\" looks like a filename, not markup. You should probably open this file and pass the filehandle into Beautiful Soup.\n",
      "  ' Beautiful Soup.' % markup)\n"
     ]
    },
    {
     "name": "stdout",
     "output_type": "stream",
     "text": [
      "review_num: 5000\n",
      "'float' object has no attribute 'strip'\n",
      "'float' object has no attribute 'strip'\n",
      "review_num: 10000\n",
      "review_num: 15000\n"
     ]
    },
    {
     "name": "stderr",
     "output_type": "stream",
     "text": [
      "/usr/local/lib/python3.6/site-packages/bs4/__init__.py:219: UserWarning: \"b'..'\" looks like a filename, not markup. You should probably open this file and pass the filehandle into Beautiful Soup.\n",
      "  ' Beautiful Soup.' % markup)\n"
     ]
    },
    {
     "name": "stdout",
     "output_type": "stream",
     "text": [
      "review_num: 20000\n",
      "review_num: 25000\n",
      "'float' object has no attribute 'strip'\n",
      "review_num: 30000\n",
      "review_num: 35000\n",
      "review_num: 40000\n",
      "review_num: 45000\n",
      "review_num: 50000\n",
      "['굳다/Adjective',\n",
      " 'ㅋ/KoreanParticle',\n",
      " 'GDNTOPCLASSINTHECLUB/Alpha',\n",
      " '뭐/Noun',\n",
      " '야/Josa',\n",
      " '이/Noun',\n",
      " '평점/Noun',\n",
      " '들/Suffix',\n",
      " '은/Josa',\n",
      " '..../Punctuation']\n",
      "[('./Punctuation', 22903),\n",
      " ('영화/Noun', 17494),\n",
      " ('하다/Verb', 16778),\n",
      " ('이/Josa', 13288),\n",
      " ('보다/Verb', 11654),\n",
      " ('의/Josa', 10229),\n",
      " ('../Punctuation', 9589),\n",
      " ('에/Josa', 9261),\n",
      " ('가/Josa', 8919),\n",
      " ('을/Josa', 7767)]\n"
     ]
    },
    {
     "data": {
      "image/png": "[encoded data removed]",
      "text/plain": [
       "<Figure size 432x288 with 1 Axes>"
      ]
     },
     "metadata": {},
     "output_type": "display_data"
    },
    {
     "name": "stdout",
     "output_type": "stream",
     "text": [
      "['굳다/Adjective',\n",
      " '뭐/Noun',\n",
      " '이/Noun',\n",
      " '평점/Noun',\n",
      " '나쁘다/Adjective',\n",
      " '않다/Verb',\n",
      " '점/Noun',\n",
      " '짜다/Verb',\n",
      " '리/Noun',\n",
      " '더/Noun']\n",
      "[('영화/Noun', 17494),\n",
      " ('하다/Verb', 16778),\n",
      " ('보다/Verb', 11654),\n",
      " ('없다/Adjective', 5535),\n",
      " ('있다/Adjective', 4151),\n",
      " ('좋다/Adjective', 4108),\n",
      " ('너무/Noun', 3905),\n",
      " ('되다/Verb', 3894),\n",
      " ('재밌다/Adjective', 3488),\n",
      " ('정말/Noun', 3201)]\n"
     ]
    },
    {
     "data": {
      "image/png": "[encoded data removed]",
      "text/plain": [
       "<Figure size 432x288 with 1 Axes>"
      ]
     },
     "metadata": {},
     "output_type": "display_data"
    }
   ],
   "source": [
    "import pandas as pd\n",
    "from konlpy.utils import pprint\n",
    "korean_review_df = pd.read_csv(\"ratings_test.txt\",header=0,delimiter = \"\\t\",quoting =3, encoding = \"utf-8\")\n",
    "len(korean_review_df)\n",
    "korean_review_df[:5]\n",
    "\n",
    "from konlpy.tag import Twitter\n",
    "twi_tagger = Twitter()\n",
    "temp_sen = u\"마늘치킨이 먹고싶닼ㅋㅋ 치킨 사랑해!\"\n",
    "pprint(twi_tagger.pos(temp_sen,norm=True,stem=True))\n",
    "\n",
    "words_temp=twi_tagger.pos(korean_review_df[\"document\"][3], norm=True,stem=True)\n",
    "pprint(words_temp)\n",
    "\n",
    "\n",
    "import nltk\n",
    "# nltk.download('punkt')\n",
    "tokenizer =nltk.data.load(\"tokenizers/punkt/english.pickle\")\n",
    "tokenizer\n",
    "\n",
    "\n",
    "from bs4 import BeautifulSoup\n",
    "import re\n",
    "from nltk.corpus import stopwords\n",
    "def tokenizer_twit(doc):\n",
    "    return ['/'.join(t) for t in twi_tagger.pos(doc, norm=True,stem=True)]\n",
    "\n",
    "def review_to_wordlist(review):\n",
    "    try:\n",
    "        review_text = BeautifulSoup(review.strip(),\"lxml\").get_text()\n",
    "    except AttributeError as e:\n",
    "        print(e)\n",
    "        review_text=\"\"\n",
    "    review_words = tokenizer_twit(review_text)\n",
    "    return review_words\n",
    "\n",
    "words=[]\n",
    "review_num=0\n",
    "\n",
    "for review in korean_review_df[\"document\"]:\n",
    "    words+=review_to_wordlist(review)\n",
    "    review_num+=1\n",
    "    if review_num%5000==0:\n",
    "        print(\"review_num: %d\"%(review_num))\n",
    "\n",
    "\n",
    "len(words)\n",
    "pprint(words[:10])\n",
    "import nltk\n",
    "words_nltk = nltk.Text(words,name = \"words in movie reviews\")\n",
    "\n",
    "pprint(words_nltk.vocab().most_common(10))\n",
    "\n",
    "import matplotlib\n",
    "matplotlib.rc('font',family='AppleGothic')\n",
    "%matplotlib inline\n",
    "words_nltk.plot(40)\n",
    "\n",
    "Non_Stop_words = [\"Noun\",\"Verb\",\"Adjective\",\"Adverb\",\"Excalmation\",\"koreanParticle\"]\n",
    "words_new = [w for w in words if w.split(\"/\")[-1] in Non_Stop_words]\n",
    "pprint(words_new[:10])\n",
    "words_nltk_new = nltk.Text(words_new,name= \"new words in movie reviews\")\n",
    "pprint(words_nltk_new.vocab().most_common(10))\n",
    "words_nltk_new.plot(40)"
   ]
  },
  {
   "cell_type": "code",
   "execution_count": null,
   "metadata": {},
   "outputs": [],
   "source": []
  },
  {
   "cell_type": "code",
   "execution_count": null,
   "metadata": {},
   "outputs": [],
   "source": [
    "#p.265\n",
    "import numpy as np\n",
    "data1 = [6,7.5,8,0,1]\n",
    "arr1=np.array(data1)\n",
    "arr1\n",
    "# array([6.,7.5,8.,0.,1.])\n",
    "\n",
    "data2=[[1,2,3,4],[5,6,7,8]]\n",
    "arr2 = np.array(data2)\n",
    "# array([1,2,3,4],[5,6,7,8])"
   ]
  },
  {
   "cell_type": "code",
   "execution_count": null,
   "metadata": {},
   "outputs": [],
   "source": [
    "# p.266\n",
    "import numpy as np\n",
    "A = np.array([[[0,1],[2,3],[4,5],[6,7]],\n",
    "             [[8,9],[10,11],[12,13],[14,15]],\n",
    "              [[16,17],[18,19],[20,21],[22,23]]\n",
    "             ])\n",
    "\n",
    "Flattened_X = A.flatten()\n",
    "print(Flattened_X)\n",
    "print(A.flatten(order=\"C\"))\n",
    "print(A.flatten(order=\"F\"))\n",
    "print(A.flatten(order=\"A\"))"
   ]
  },
  {
   "cell_type": "code",
   "execution_count": null,
   "metadata": {},
   "outputs": [],
   "source": [
    "print(A.ravel)\n",
    "print(A.ravel(order=\"A\"))\n",
    "print(A.ravel(order=\"F\"))\n",
    "print(A.ravel(order=\"A\"))\n",
    "print(A.ravel(order=\"K\"))"
   ]
  },
  {
   "cell_type": "code",
   "execution_count": null,
   "metadata": {},
   "outputs": [],
   "source": [
    "#p.267 reshape예제\n",
    "import numpy as np\n",
    "X= np.array(range(24))\n",
    "Y=X.reshape((3,4,2))\n",
    "print(Y)"
   ]
  },
  {
   "cell_type": "code",
   "execution_count": null,
   "metadata": {},
   "outputs": [],
   "source": [
    "import numpy as np\n",
    "x= np.array([11,22])\n",
    "y= np.array([18,7,6])\n",
    "z= np.array([1,3,5])\n",
    "c= np.concatenate((x,y,z))\n",
    "print(c)"
   ]
  },
  {
   "cell_type": "code",
   "execution_count": null,
   "metadata": {},
   "outputs": [],
   "source": [
    "x= np.array(range(12))\n",
    "x= x.reshape((2,3,2))\n",
    "y= np.array(range(100,112))\n",
    "y= y.reshape((2,3,2))\n",
    "z=np.concatenate((x,y),axis=0)\n",
    "print(z)\n",
    "z=np.concatenate((x,y),axis=1)\n",
    "print(z)"
   ]
  },
  {
   "cell_type": "code",
   "execution_count": null,
   "metadata": {},
   "outputs": [],
   "source": [
    "import numpy as np\n",
    "x= np.array([2,5,18,14,4])\n",
    "y=x[:,np.newaxis]\n",
    "print(y)\n",
    "x=np.arange(6)\n",
    "y=x.reshape(2,3)\n",
    "print(y[:,np.newaxis])"
   ]
  },
  {
   "cell_type": "code",
   "execution_count": null,
   "metadata": {},
   "outputs": [],
   "source": [
    "x= np.array([[1,2],[3,4]])\n",
    "print(x)\n",
    "np.tile(x,(3,4))\n",
    "print(x)"
   ]
  },
  {
   "cell_type": "code",
   "execution_count": null,
   "metadata": {},
   "outputs": [],
   "source": [
    "import numpy as np\n",
    "A= np.array([4,7,3,4,2,8])\n",
    "C=(A==4)\n",
    "print(C,type(C))\n",
    "\n",
    "LT=(A<5)\n",
    "print(LT, type(LT))"
   ]
  },
  {
   "cell_type": "code",
   "execution_count": null,
   "metadata": {},
   "outputs": [],
   "source": [
    "#Fancy indexing p.274\n",
    "B = np.array([[142,56,189,65], [299,288,10,12],[55,142,17,18]])\n",
    "\n",
    "e0 = np.array([0,0,0,0])\n",
    "e1 = np.array([0,3,2,1])\n",
    "f= B[(e0,e1)]\n",
    "print(f)\n",
    "\n",
    "print(f[e0])\n",
    "print(f[e1])"
   ]
  },
  {
   "cell_type": "code",
   "execution_count": null,
   "metadata": {},
   "outputs": [],
   "source": [
    "import numpy as np\n",
    "aa_milne_arr = ['pooh','rabbit','piglet','christopher']\n",
    "print(np.random.choice(aa_milne_arr,5,p=[0.5,0.1,0.1,0.3]))"
   ]
  },
  {
   "cell_type": "code",
   "execution_count": null,
   "metadata": {},
   "outputs": [],
   "source": [
    "from pandas import Series, DataFrame\n",
    "import pandas as pd\n",
    "obj = Series([4,7,-5,3])\n",
    "obj"
   ]
  },
  {
   "cell_type": "code",
   "execution_count": null,
   "metadata": {},
   "outputs": [],
   "source": [
    "obj.values\n",
    "# array([4,7,-5,3],dtype = 'int64')\n",
    "obj.index\n",
    "# Int64Index([0,1,2,3],dtype = 'int64')\n",
    "obj2 = Series([4,7,-5,3],index=['d','b','a','c'])\n",
    "obj2\n",
    "obj2.index\n",
    "obj2['a']\n",
    "obj2['d']=6\n",
    "obj2[['c','a','d']]\n",
    "\n",
    "obj2[obj2>0]\n",
    "obj2*2"
   ]
  },
  {
   "cell_type": "code",
   "execution_count": null,
   "metadata": {},
   "outputs": [],
   "source": [
    "#p.289\n",
    "sdata = {'Daegu':2492,\"Busan\":3519,\"Seoul\":10105,\"Daejeon\":2906}\n",
    "obj3=Series(sdata)\n",
    "\n",
    "obj3\n"
   ]
  },
  {
   "cell_type": "code",
   "execution_count": null,
   "metadata": {},
   "outputs": [],
   "source": [
    "city=['Incheon','Daegu','Seoul','Busan']\n",
    "obj4= Series(sdata,index=city)\n",
    "pd.isnull(obj4)"
   ]
  },
  {
   "cell_type": "code",
   "execution_count": null,
   "metadata": {},
   "outputs": [],
   "source": [
    "pd.notnull(obj4)"
   ]
  },
  {
   "cell_type": "code",
   "execution_count": null,
   "metadata": {},
   "outputs": [],
   "source": [
    "obj4.isnull()"
   ]
  },
  {
   "cell_type": "code",
   "execution_count": null,
   "metadata": {},
   "outputs": [],
   "source": [
    "obj4"
   ]
  },
  {
   "cell_type": "code",
   "execution_count": null,
   "metadata": {},
   "outputs": [],
   "source": [
    "from pandas import Series, DataFrame\n",
    "data={'city':[\"Seoul\",\"Seoul\",\"Seoul\",\"Daegu\",\"Daegu\"],\n",
    "         'year':[2010,2011,2012,2011,2012],\n",
    "      'pop':[1.5,1.7,3.6,2.4,2.9]\n",
    "     }\n",
    "\n",
    "frame = DataFrame(data)\n",
    "# print(frame)\n",
    "DataFrame(data)\n",
    "DataFrame(data,columns=['year','city','pop'])"
   ]
  },
  {
   "cell_type": "code",
   "execution_count": null,
   "metadata": {},
   "outputs": [],
   "source": [
    "frame2= DataFrame(data,columns=['year','city','pop','debt'],\n",
    "                 index =['one','two','three','four','five']\n",
    "                 )\n",
    "#열로 접근\n",
    "frame2['city']\n",
    "frame2.year"
   ]
  },
  {
   "cell_type": "code",
   "execution_count": null,
   "metadata": {},
   "outputs": [],
   "source": [
    "# 행으로 접근\n",
    "frame2.ix['three']"
   ]
  },
  {
   "cell_type": "code",
   "execution_count": null,
   "metadata": {},
   "outputs": [],
   "source": [
    "#해당 열에 값을 추가 할수 있다.\n",
    "frame2['debt']=np.arange(5.)\n",
    "frame2"
   ]
  },
  {
   "cell_type": "code",
   "execution_count": null,
   "metadata": {},
   "outputs": [],
   "source": [
    "#테이블에 새로 column을 추가 할수 있다.\n",
    "# 열 자체를 추가할수 있음.\n",
    "frame2['smile']=np.arange(0,5)\n",
    "frame2"
   ]
  },
  {
   "cell_type": "code",
   "execution_count": null,
   "metadata": {},
   "outputs": [],
   "source": [
    "val = Series([-1.2,-1.5,-1.7],index = ['two','four','five'])\n",
    "frame2['debt']=val\n",
    "\n",
    "frame2"
   ]
  },
  {
   "cell_type": "code",
   "execution_count": null,
   "metadata": {},
   "outputs": [],
   "source": [
    "frame2['eastern'] = frame2.city==\"Daegu\"\n",
    "frame2"
   ]
  }
 ],
 "metadata": {
  "kernelspec": {
   "display_name": "Python 3",
   "language": "python",
   "name": "python3"
  },
  "language_info": {
   "codemirror_mode": {
    "name": "ipython",
    "version": 3
   },
   "file_extension": ".py",
   "mimetype": "text/x-python",
   "name": "python",
   "nbconvert_exporter": "python",
   "pygments_lexer": "ipython3",
   "version": "3.6.5"
  }
 },
 "nbformat": 4,
 "nbformat_minor": 2
}
